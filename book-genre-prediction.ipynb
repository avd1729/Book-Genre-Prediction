{
 "cells": [
  {
   "cell_type": "markdown",
   "id": "ed4c1255",
   "metadata": {
    "papermill": {
     "duration": 0.008669,
     "end_time": "2023-12-07T17:20:55.753219",
     "exception": false,
     "start_time": "2023-12-07T17:20:55.744550",
     "status": "completed"
    },
    "tags": []
   },
   "source": [
    "# **Setting up the environment**"
   ]
  },
  {
   "cell_type": "code",
   "execution_count": 1,
   "id": "d0ea9469",
   "metadata": {
    "execution": {
     "iopub.execute_input": "2023-12-07T17:20:55.771327Z",
     "iopub.status.busy": "2023-12-07T17:20:55.770739Z",
     "iopub.status.idle": "2023-12-07T17:20:55.781184Z",
     "shell.execute_reply": "2023-12-07T17:20:55.780468Z"
    },
    "papermill": {
     "duration": 0.021534,
     "end_time": "2023-12-07T17:20:55.782945",
     "exception": false,
     "start_time": "2023-12-07T17:20:55.761411",
     "status": "completed"
    },
    "tags": []
   },
   "outputs": [],
   "source": [
    "import warnings\n",
    "warnings.filterwarnings('ignore')"
   ]
  },
  {
   "cell_type": "code",
   "execution_count": 2,
   "id": "33d3c5a6",
   "metadata": {
    "execution": {
     "iopub.execute_input": "2023-12-07T17:20:55.800801Z",
     "iopub.status.busy": "2023-12-07T17:20:55.800545Z",
     "iopub.status.idle": "2023-12-07T17:21:08.919998Z",
     "shell.execute_reply": "2023-12-07T17:21:08.919050Z"
    },
    "papermill": {
     "duration": 13.131312,
     "end_time": "2023-12-07T17:21:08.922458",
     "exception": false,
     "start_time": "2023-12-07T17:20:55.791146",
     "status": "completed"
    },
    "tags": []
   },
   "outputs": [],
   "source": [
    "import numpy as np\n",
    "import pandas as pd\n",
    "import tensorflow as tf"
   ]
  },
  {
   "cell_type": "code",
   "execution_count": 3,
   "id": "4443ded4",
   "metadata": {
    "execution": {
     "iopub.execute_input": "2023-12-07T17:21:08.941121Z",
     "iopub.status.busy": "2023-12-07T17:21:08.940569Z",
     "iopub.status.idle": "2023-12-07T17:21:08.945001Z",
     "shell.execute_reply": "2023-12-07T17:21:08.944277Z"
    },
    "papermill": {
     "duration": 0.015556,
     "end_time": "2023-12-07T17:21:08.946784",
     "exception": false,
     "start_time": "2023-12-07T17:21:08.931228",
     "status": "completed"
    },
    "tags": []
   },
   "outputs": [],
   "source": [
    "np.random.seed(42)\n",
    "tf.random.set_seed(42)"
   ]
  },
  {
   "cell_type": "markdown",
   "id": "25b64073",
   "metadata": {
    "papermill": {
     "duration": 0.008433,
     "end_time": "2023-12-07T17:21:08.963743",
     "exception": false,
     "start_time": "2023-12-07T17:21:08.955310",
     "status": "completed"
    },
    "tags": []
   },
   "source": [
    "# **Pre processing**"
   ]
  },
  {
   "cell_type": "code",
   "execution_count": 4,
   "id": "b57f2cf2",
   "metadata": {
    "execution": {
     "iopub.execute_input": "2023-12-07T17:21:08.981372Z",
     "iopub.status.busy": "2023-12-07T17:21:08.981120Z",
     "iopub.status.idle": "2023-12-07T17:21:09.049622Z",
     "shell.execute_reply": "2023-12-07T17:21:09.048946Z"
    },
    "papermill": {
     "duration": 0.079413,
     "end_time": "2023-12-07T17:21:09.051495",
     "exception": false,
     "start_time": "2023-12-07T17:21:08.972082",
     "status": "completed"
    },
    "tags": []
   },
   "outputs": [],
   "source": [
    "data = pd.read_csv(\"/kaggle/input/book-scraped/myscrapeddata.csv\")"
   ]
  },
  {
   "cell_type": "code",
   "execution_count": 5,
   "id": "c8e2cfec",
   "metadata": {
    "execution": {
     "iopub.execute_input": "2023-12-07T17:21:09.068765Z",
     "iopub.status.busy": "2023-12-07T17:21:09.068518Z",
     "iopub.status.idle": "2023-12-07T17:21:09.095316Z",
     "shell.execute_reply": "2023-12-07T17:21:09.094314Z"
    },
    "papermill": {
     "duration": 0.037507,
     "end_time": "2023-12-07T17:21:09.097137",
     "exception": false,
     "start_time": "2023-12-07T17:21:09.059630",
     "status": "completed"
    },
    "tags": []
   },
   "outputs": [
    {
     "name": "stdout",
     "output_type": "stream",
     "text": [
      "<class 'pandas.core.frame.DataFrame'>\n",
      "RangeIndex: 1000 entries, 0 to 999\n",
      "Data columns (total 13 columns):\n",
      " #   Column          Non-Null Count  Dtype  \n",
      "---  ------          --------------  -----  \n",
      " 0   availability    1000 non-null   int64  \n",
      " 1   category        1000 non-null   object \n",
      " 2   description     998 non-null    object \n",
      " 3   num_reviews     1000 non-null   int64  \n",
      " 4   price           1000 non-null   float64\n",
      " 5   price_excl_tax  1000 non-null   float64\n",
      " 6   price_incl_tax  1000 non-null   float64\n",
      " 7   product_type    1000 non-null   object \n",
      " 8   stars           1000 non-null   int64  \n",
      " 9   tax             1000 non-null   float64\n",
      " 10  title           1000 non-null   object \n",
      " 11  upc             1000 non-null   object \n",
      " 12  url             1000 non-null   object \n",
      "dtypes: float64(4), int64(3), object(6)\n",
      "memory usage: 101.7+ KB\n"
     ]
    }
   ],
   "source": [
    "data.info()"
   ]
  },
  {
   "cell_type": "code",
   "execution_count": 6,
   "id": "a059c4c6",
   "metadata": {
    "execution": {
     "iopub.execute_input": "2023-12-07T17:21:09.115831Z",
     "iopub.status.busy": "2023-12-07T17:21:09.115565Z",
     "iopub.status.idle": "2023-12-07T17:21:09.123778Z",
     "shell.execute_reply": "2023-12-07T17:21:09.122961Z"
    },
    "papermill": {
     "duration": 0.019812,
     "end_time": "2023-12-07T17:21:09.125640",
     "exception": false,
     "start_time": "2023-12-07T17:21:09.105828",
     "status": "completed"
    },
    "tags": []
   },
   "outputs": [
    {
     "data": {
      "text/plain": [
       "category\n",
       "default               152\n",
       "nonfiction            110\n",
       "sequential art         75\n",
       "add a comment          67\n",
       "fiction                65\n",
       "young adult            54\n",
       "fantasy                48\n",
       "romance                35\n",
       "mystery                32\n",
       "food and drink         30\n",
       "childrens              29\n",
       "historical fiction     26\n",
       "classics               19\n",
       "poetry                 19\n",
       "history                18\n",
       "horror                 17\n",
       "womens fiction         17\n",
       "science fiction        16\n",
       "science                14\n",
       "music                  13\n",
       "business               12\n",
       "philosophy             11\n",
       "thriller               11\n",
       "travel                 11\n",
       "humor                  10\n",
       "autobiography           9\n",
       "art                     8\n",
       "psychology              7\n",
       "religion                7\n",
       "christian fiction       6\n",
       "spirituality            6\n",
       "new adult               6\n",
       "self help               5\n",
       "sports and games        5\n",
       "biography               5\n",
       "health                  4\n",
       "christian               3\n",
       "contemporary            3\n",
       "politics                3\n",
       "historical              2\n",
       "cultural                1\n",
       "erotica                 1\n",
       "crime                   1\n",
       "novels                  1\n",
       "short stories           1\n",
       "suspense                1\n",
       "academic                1\n",
       "adult fiction           1\n",
       "parenting               1\n",
       "paranormal              1\n",
       "Name: count, dtype: int64"
      ]
     },
     "execution_count": 6,
     "metadata": {},
     "output_type": "execute_result"
    }
   ],
   "source": [
    "data['category'].value_counts()"
   ]
  },
  {
   "cell_type": "code",
   "execution_count": 7,
   "id": "c8252f69",
   "metadata": {
    "execution": {
     "iopub.execute_input": "2023-12-07T17:21:09.143552Z",
     "iopub.status.busy": "2023-12-07T17:21:09.143283Z",
     "iopub.status.idle": "2023-12-07T17:21:09.153829Z",
     "shell.execute_reply": "2023-12-07T17:21:09.153014Z"
    },
    "papermill": {
     "duration": 0.021622,
     "end_time": "2023-12-07T17:21:09.155648",
     "exception": false,
     "start_time": "2023-12-07T17:21:09.134026",
     "status": "completed"
    },
    "tags": []
   },
   "outputs": [],
   "source": [
    "genre_counts = {\n",
    "    'young adult': 54,\n",
    "    'fantasy': 48,\n",
    "    'romance': 35,\n",
    "    'mystery': 32,\n",
    "    'food and drink': 30,\n",
    "    'childrens': 29,\n",
    "    'historical fiction': 26,\n",
    "    'classics': 19,\n",
    "    'poetry': 19,\n",
    "    'history': 18,\n",
    "    'horror': 17,\n",
    "    'womens fiction': 17,\n",
    "    'science fiction': 16,\n",
    "    'science': 14,\n",
    "    'music': 13,\n",
    "    'business': 12,\n",
    "    'philosophy': 11,\n",
    "    'thriller': 11,\n",
    "    'travel': 11,\n",
    "    'humor': 10,\n",
    "    'autobiography': 9,\n",
    "    'art': 8,\n",
    "    'psychology': 7,\n",
    "    'religion': 7,\n",
    "    'christian fiction': 6,\n",
    "    'spirituality': 6,\n",
    "    'new adult': 6,\n",
    "    'self help': 5,\n",
    "    'sports and games': 5,\n",
    "    'biography': 5,\n",
    "    'health': 4,\n",
    "    'christian': 3,\n",
    "    'contemporary': 3,\n",
    "    'politics': 3,\n",
    "    'historical': 2,\n",
    "    'cultural': 1,\n",
    "    'erotica': 1,\n",
    "    'crime': 1,\n",
    "    'novels': 1,\n",
    "    'short stories': 1,\n",
    "    'suspense': 1,\n",
    "    'academic': 1,\n",
    "    'adult fiction': 1,\n",
    "    'parenting': 1,\n",
    "    'paranormal': 1\n",
    "}\n",
    "categories_to_drop = list(genre_counts.keys())\n",
    "data = data[~data['category'].isin(categories_to_drop)]"
   ]
  },
  {
   "cell_type": "code",
   "execution_count": 8,
   "id": "b7b2b254",
   "metadata": {
    "execution": {
     "iopub.execute_input": "2023-12-07T17:21:09.173526Z",
     "iopub.status.busy": "2023-12-07T17:21:09.173259Z",
     "iopub.status.idle": "2023-12-07T17:21:09.192588Z",
     "shell.execute_reply": "2023-12-07T17:21:09.191704Z"
    },
    "papermill": {
     "duration": 0.030207,
     "end_time": "2023-12-07T17:21:09.194449",
     "exception": false,
     "start_time": "2023-12-07T17:21:09.164242",
     "status": "completed"
    },
    "tags": []
   },
   "outputs": [
    {
     "data": {
      "text/html": [
       "<div>\n",
       "<style scoped>\n",
       "    .dataframe tbody tr th:only-of-type {\n",
       "        vertical-align: middle;\n",
       "    }\n",
       "\n",
       "    .dataframe tbody tr th {\n",
       "        vertical-align: top;\n",
       "    }\n",
       "\n",
       "    .dataframe thead th {\n",
       "        text-align: right;\n",
       "    }\n",
       "</style>\n",
       "<table border=\"1\" class=\"dataframe\">\n",
       "  <thead>\n",
       "    <tr style=\"text-align: right;\">\n",
       "      <th></th>\n",
       "      <th>availability</th>\n",
       "      <th>category</th>\n",
       "      <th>description</th>\n",
       "      <th>num_reviews</th>\n",
       "      <th>price</th>\n",
       "      <th>price_excl_tax</th>\n",
       "      <th>price_incl_tax</th>\n",
       "      <th>product_type</th>\n",
       "      <th>stars</th>\n",
       "      <th>tax</th>\n",
       "      <th>title</th>\n",
       "      <th>upc</th>\n",
       "      <th>url</th>\n",
       "    </tr>\n",
       "  </thead>\n",
       "  <tbody>\n",
       "    <tr>\n",
       "      <th>4</th>\n",
       "      <td>19</td>\n",
       "      <td>sequential art</td>\n",
       "      <td>Scott Pilgrim's life is totally sweet. He's 23...</td>\n",
       "      <td>0</td>\n",
       "      <td>52.29</td>\n",
       "      <td>52.29</td>\n",
       "      <td>52.29</td>\n",
       "      <td>books</td>\n",
       "      <td>5</td>\n",
       "      <td>0.0</td>\n",
       "      <td>Scott Pilgrim's Precious Little Life (Scott Pi...</td>\n",
       "      <td>3b1c02bac2a429e6</td>\n",
       "      <td>https://books.toscrape.com/catalogue/scott-pil...</td>\n",
       "    </tr>\n",
       "    <tr>\n",
       "      <th>6</th>\n",
       "      <td>19</td>\n",
       "      <td>default</td>\n",
       "      <td>For readers of Laura Hillenbrand's Seabiscuit ...</td>\n",
       "      <td>0</td>\n",
       "      <td>22.60</td>\n",
       "      <td>22.60</td>\n",
       "      <td>22.60</td>\n",
       "      <td>books</td>\n",
       "      <td>4</td>\n",
       "      <td>0.0</td>\n",
       "      <td>The Boys in the Boat: Nine Americans and Their...</td>\n",
       "      <td>e10e1e165dc8be4a</td>\n",
       "      <td>https://books.toscrape.com/catalogue/the-boys-...</td>\n",
       "    </tr>\n",
       "    <tr>\n",
       "      <th>7</th>\n",
       "      <td>19</td>\n",
       "      <td>default</td>\n",
       "      <td>\"If you have a heart, if you have a soul, Kare...</td>\n",
       "      <td>0</td>\n",
       "      <td>17.93</td>\n",
       "      <td>17.93</td>\n",
       "      <td>17.93</td>\n",
       "      <td>books</td>\n",
       "      <td>3</td>\n",
       "      <td>0.0</td>\n",
       "      <td>The Coming Woman: A Novel Based on the Life of...</td>\n",
       "      <td>e72a5dfc7e9267b2</td>\n",
       "      <td>https://books.toscrape.com/catalogue/the-comin...</td>\n",
       "    </tr>\n",
       "    <tr>\n",
       "      <th>14</th>\n",
       "      <td>18</td>\n",
       "      <td>default</td>\n",
       "      <td>This new edition of Maude (1883-1993) has been...</td>\n",
       "      <td>0</td>\n",
       "      <td>18.02</td>\n",
       "      <td>18.02</td>\n",
       "      <td>18.02</td>\n",
       "      <td>books</td>\n",
       "      <td>2</td>\n",
       "      <td>0.0</td>\n",
       "      <td>Maude (1883-1993):She Grew Up with the country</td>\n",
       "      <td>094b269567e1c300</td>\n",
       "      <td>https://books.toscrape.com/catalogue/maude-188...</td>\n",
       "    </tr>\n",
       "    <tr>\n",
       "      <th>15</th>\n",
       "      <td>18</td>\n",
       "      <td>default</td>\n",
       "      <td>Sent to yet another foster family, Penny decid...</td>\n",
       "      <td>0</td>\n",
       "      <td>33.29</td>\n",
       "      <td>33.29</td>\n",
       "      <td>33.29</td>\n",
       "      <td>books</td>\n",
       "      <td>3</td>\n",
       "      <td>0.0</td>\n",
       "      <td>Penny Maybe</td>\n",
       "      <td>668fe56b17cfcd4f</td>\n",
       "      <td>https://books.toscrape.com/catalogue/penny-may...</td>\n",
       "    </tr>\n",
       "  </tbody>\n",
       "</table>\n",
       "</div>"
      ],
      "text/plain": [
       "    availability        category  \\\n",
       "4             19  sequential art   \n",
       "6             19         default   \n",
       "7             19         default   \n",
       "14            18         default   \n",
       "15            18         default   \n",
       "\n",
       "                                          description  num_reviews  price  \\\n",
       "4   Scott Pilgrim's life is totally sweet. He's 23...            0  52.29   \n",
       "6   For readers of Laura Hillenbrand's Seabiscuit ...            0  22.60   \n",
       "7   \"If you have a heart, if you have a soul, Kare...            0  17.93   \n",
       "14  This new edition of Maude (1883-1993) has been...            0  18.02   \n",
       "15  Sent to yet another foster family, Penny decid...            0  33.29   \n",
       "\n",
       "    price_excl_tax  price_incl_tax product_type  stars  tax  \\\n",
       "4            52.29           52.29        books      5  0.0   \n",
       "6            22.60           22.60        books      4  0.0   \n",
       "7            17.93           17.93        books      3  0.0   \n",
       "14           18.02           18.02        books      2  0.0   \n",
       "15           33.29           33.29        books      3  0.0   \n",
       "\n",
       "                                                title               upc  \\\n",
       "4   Scott Pilgrim's Precious Little Life (Scott Pi...  3b1c02bac2a429e6   \n",
       "6   The Boys in the Boat: Nine Americans and Their...  e10e1e165dc8be4a   \n",
       "7   The Coming Woman: A Novel Based on the Life of...  e72a5dfc7e9267b2   \n",
       "14     Maude (1883-1993):She Grew Up with the country  094b269567e1c300   \n",
       "15                                        Penny Maybe  668fe56b17cfcd4f   \n",
       "\n",
       "                                                  url  \n",
       "4   https://books.toscrape.com/catalogue/scott-pil...  \n",
       "6   https://books.toscrape.com/catalogue/the-boys-...  \n",
       "7   https://books.toscrape.com/catalogue/the-comin...  \n",
       "14  https://books.toscrape.com/catalogue/maude-188...  \n",
       "15  https://books.toscrape.com/catalogue/penny-may...  "
      ]
     },
     "execution_count": 8,
     "metadata": {},
     "output_type": "execute_result"
    }
   ],
   "source": [
    "data.head()"
   ]
  },
  {
   "cell_type": "code",
   "execution_count": 9,
   "id": "33be9589",
   "metadata": {
    "execution": {
     "iopub.execute_input": "2023-12-07T17:21:09.213059Z",
     "iopub.status.busy": "2023-12-07T17:21:09.212771Z",
     "iopub.status.idle": "2023-12-07T17:21:09.218786Z",
     "shell.execute_reply": "2023-12-07T17:21:09.217690Z"
    },
    "papermill": {
     "duration": 0.017541,
     "end_time": "2023-12-07T17:21:09.220914",
     "exception": false,
     "start_time": "2023-12-07T17:21:09.203373",
     "status": "completed"
    },
    "tags": []
   },
   "outputs": [],
   "source": [
    "data = data[['category','description']]"
   ]
  },
  {
   "cell_type": "code",
   "execution_count": 10,
   "id": "240ac70a",
   "metadata": {
    "execution": {
     "iopub.execute_input": "2023-12-07T17:21:09.239269Z",
     "iopub.status.busy": "2023-12-07T17:21:09.239012Z",
     "iopub.status.idle": "2023-12-07T17:21:09.246957Z",
     "shell.execute_reply": "2023-12-07T17:21:09.246152Z"
    },
    "papermill": {
     "duration": 0.019132,
     "end_time": "2023-12-07T17:21:09.248876",
     "exception": false,
     "start_time": "2023-12-07T17:21:09.229744",
     "status": "completed"
    },
    "tags": []
   },
   "outputs": [
    {
     "data": {
      "text/html": [
       "<div>\n",
       "<style scoped>\n",
       "    .dataframe tbody tr th:only-of-type {\n",
       "        vertical-align: middle;\n",
       "    }\n",
       "\n",
       "    .dataframe tbody tr th {\n",
       "        vertical-align: top;\n",
       "    }\n",
       "\n",
       "    .dataframe thead th {\n",
       "        text-align: right;\n",
       "    }\n",
       "</style>\n",
       "<table border=\"1\" class=\"dataframe\">\n",
       "  <thead>\n",
       "    <tr style=\"text-align: right;\">\n",
       "      <th></th>\n",
       "      <th>category</th>\n",
       "      <th>description</th>\n",
       "    </tr>\n",
       "  </thead>\n",
       "  <tbody>\n",
       "    <tr>\n",
       "      <th>4</th>\n",
       "      <td>sequential art</td>\n",
       "      <td>Scott Pilgrim's life is totally sweet. He's 23...</td>\n",
       "    </tr>\n",
       "    <tr>\n",
       "      <th>6</th>\n",
       "      <td>default</td>\n",
       "      <td>For readers of Laura Hillenbrand's Seabiscuit ...</td>\n",
       "    </tr>\n",
       "    <tr>\n",
       "      <th>7</th>\n",
       "      <td>default</td>\n",
       "      <td>\"If you have a heart, if you have a soul, Kare...</td>\n",
       "    </tr>\n",
       "    <tr>\n",
       "      <th>14</th>\n",
       "      <td>default</td>\n",
       "      <td>This new edition of Maude (1883-1993) has been...</td>\n",
       "    </tr>\n",
       "    <tr>\n",
       "      <th>15</th>\n",
       "      <td>default</td>\n",
       "      <td>Sent to yet another foster family, Penny decid...</td>\n",
       "    </tr>\n",
       "  </tbody>\n",
       "</table>\n",
       "</div>"
      ],
      "text/plain": [
       "          category                                        description\n",
       "4   sequential art  Scott Pilgrim's life is totally sweet. He's 23...\n",
       "6          default  For readers of Laura Hillenbrand's Seabiscuit ...\n",
       "7          default  \"If you have a heart, if you have a soul, Kare...\n",
       "14         default  This new edition of Maude (1883-1993) has been...\n",
       "15         default  Sent to yet another foster family, Penny decid..."
      ]
     },
     "execution_count": 10,
     "metadata": {},
     "output_type": "execute_result"
    }
   ],
   "source": [
    "data.head()"
   ]
  },
  {
   "cell_type": "code",
   "execution_count": 11,
   "id": "ee9a8f00",
   "metadata": {
    "execution": {
     "iopub.execute_input": "2023-12-07T17:21:09.269026Z",
     "iopub.status.busy": "2023-12-07T17:21:09.268757Z",
     "iopub.status.idle": "2023-12-07T17:21:09.278004Z",
     "shell.execute_reply": "2023-12-07T17:21:09.276642Z"
    },
    "papermill": {
     "duration": 0.021488,
     "end_time": "2023-12-07T17:21:09.280313",
     "exception": false,
     "start_time": "2023-12-07T17:21:09.258825",
     "status": "completed"
    },
    "tags": []
   },
   "outputs": [
    {
     "name": "stdout",
     "output_type": "stream",
     "text": [
      "<class 'pandas.core.frame.DataFrame'>\n",
      "Index: 469 entries, 4 to 997\n",
      "Data columns (total 2 columns):\n",
      " #   Column       Non-Null Count  Dtype \n",
      "---  ------       --------------  ----- \n",
      " 0   category     469 non-null    object\n",
      " 1   description  468 non-null    object\n",
      "dtypes: object(2)\n",
      "memory usage: 11.0+ KB\n"
     ]
    }
   ],
   "source": [
    "data.info()"
   ]
  },
  {
   "cell_type": "code",
   "execution_count": 12,
   "id": "169ebae0",
   "metadata": {
    "execution": {
     "iopub.execute_input": "2023-12-07T17:21:09.300171Z",
     "iopub.status.busy": "2023-12-07T17:21:09.299894Z",
     "iopub.status.idle": "2023-12-07T17:21:09.304811Z",
     "shell.execute_reply": "2023-12-07T17:21:09.303988Z"
    },
    "papermill": {
     "duration": 0.016658,
     "end_time": "2023-12-07T17:21:09.306756",
     "exception": false,
     "start_time": "2023-12-07T17:21:09.290098",
     "status": "completed"
    },
    "tags": []
   },
   "outputs": [],
   "source": [
    "data = data.dropna()"
   ]
  },
  {
   "cell_type": "code",
   "execution_count": 13,
   "id": "8c185223",
   "metadata": {
    "execution": {
     "iopub.execute_input": "2023-12-07T17:21:09.325655Z",
     "iopub.status.busy": "2023-12-07T17:21:09.325386Z",
     "iopub.status.idle": "2023-12-07T17:21:09.333431Z",
     "shell.execute_reply": "2023-12-07T17:21:09.332647Z"
    },
    "papermill": {
     "duration": 0.020299,
     "end_time": "2023-12-07T17:21:09.335949",
     "exception": false,
     "start_time": "2023-12-07T17:21:09.315650",
     "status": "completed"
    },
    "tags": []
   },
   "outputs": [
    {
     "name": "stdout",
     "output_type": "stream",
     "text": [
      "<class 'pandas.core.frame.DataFrame'>\n",
      "Index: 468 entries, 4 to 997\n",
      "Data columns (total 2 columns):\n",
      " #   Column       Non-Null Count  Dtype \n",
      "---  ------       --------------  ----- \n",
      " 0   category     468 non-null    object\n",
      " 1   description  468 non-null    object\n",
      "dtypes: object(2)\n",
      "memory usage: 11.0+ KB\n"
     ]
    }
   ],
   "source": [
    "data.info()"
   ]
  },
  {
   "cell_type": "code",
   "execution_count": 14,
   "id": "a71c3f32",
   "metadata": {
    "execution": {
     "iopub.execute_input": "2023-12-07T17:21:09.356149Z",
     "iopub.status.busy": "2023-12-07T17:21:09.355876Z",
     "iopub.status.idle": "2023-12-07T17:21:10.017276Z",
     "shell.execute_reply": "2023-12-07T17:21:10.016452Z"
    },
    "papermill": {
     "duration": 0.673475,
     "end_time": "2023-12-07T17:21:10.019457",
     "exception": false,
     "start_time": "2023-12-07T17:21:09.345982",
     "status": "completed"
    },
    "tags": []
   },
   "outputs": [],
   "source": [
    "from sklearn.preprocessing import OrdinalEncoder\n",
    "encoder = OrdinalEncoder()\n",
    "data[['category']] = encoder.fit_transform(data[['category']])"
   ]
  },
  {
   "cell_type": "code",
   "execution_count": 15,
   "id": "667ace95",
   "metadata": {
    "execution": {
     "iopub.execute_input": "2023-12-07T17:21:10.039233Z",
     "iopub.status.busy": "2023-12-07T17:21:10.038933Z",
     "iopub.status.idle": "2023-12-07T17:21:10.043031Z",
     "shell.execute_reply": "2023-12-07T17:21:10.042254Z"
    },
    "papermill": {
     "duration": 0.016099,
     "end_time": "2023-12-07T17:21:10.044955",
     "exception": false,
     "start_time": "2023-12-07T17:21:10.028856",
     "status": "completed"
    },
    "tags": []
   },
   "outputs": [],
   "source": [
    "X = data['description']\n",
    "y = data['category']"
   ]
  },
  {
   "cell_type": "code",
   "execution_count": 16,
   "id": "af38ac0b",
   "metadata": {
    "execution": {
     "iopub.execute_input": "2023-12-07T17:21:10.064451Z",
     "iopub.status.busy": "2023-12-07T17:21:10.064165Z",
     "iopub.status.idle": "2023-12-07T17:21:10.073352Z",
     "shell.execute_reply": "2023-12-07T17:21:10.072568Z"
    },
    "papermill": {
     "duration": 0.021476,
     "end_time": "2023-12-07T17:21:10.075351",
     "exception": false,
     "start_time": "2023-12-07T17:21:10.053875",
     "status": "completed"
    },
    "tags": []
   },
   "outputs": [
    {
     "data": {
      "text/plain": [
       "category\n",
       "1.0    151\n",
       "3.0    110\n",
       "4.0     75\n",
       "0.0     67\n",
       "2.0     65\n",
       "Name: count, dtype: int64"
      ]
     },
     "execution_count": 16,
     "metadata": {},
     "output_type": "execute_result"
    }
   ],
   "source": [
    "y.value_counts()"
   ]
  },
  {
   "cell_type": "code",
   "execution_count": 17,
   "id": "c9f6eb83",
   "metadata": {
    "execution": {
     "iopub.execute_input": "2023-12-07T17:21:10.094667Z",
     "iopub.status.busy": "2023-12-07T17:21:10.094403Z",
     "iopub.status.idle": "2023-12-07T17:21:10.191251Z",
     "shell.execute_reply": "2023-12-07T17:21:10.190331Z"
    },
    "papermill": {
     "duration": 0.108807,
     "end_time": "2023-12-07T17:21:10.193307",
     "exception": false,
     "start_time": "2023-12-07T17:21:10.084500",
     "status": "completed"
    },
    "tags": []
   },
   "outputs": [],
   "source": [
    "from sklearn.model_selection import train_test_split\n",
    "\n",
    "X_train , X_valid , y_train , y_valid = train_test_split(X , y , test_size=0.9 , random_state=42)"
   ]
  },
  {
   "cell_type": "code",
   "execution_count": 18,
   "id": "bf2f0f73",
   "metadata": {
    "execution": {
     "iopub.execute_input": "2023-12-07T17:21:10.213476Z",
     "iopub.status.busy": "2023-12-07T17:21:10.213231Z",
     "iopub.status.idle": "2023-12-07T17:21:10.216973Z",
     "shell.execute_reply": "2023-12-07T17:21:10.216212Z"
    },
    "papermill": {
     "duration": 0.01561,
     "end_time": "2023-12-07T17:21:10.218792",
     "exception": false,
     "start_time": "2023-12-07T17:21:10.203182",
     "status": "completed"
    },
    "tags": []
   },
   "outputs": [],
   "source": [
    "y_train = np.array(y_train)\n",
    "y_valid = np.array(y_valid)"
   ]
  },
  {
   "cell_type": "code",
   "execution_count": 19,
   "id": "f91705b7",
   "metadata": {
    "execution": {
     "iopub.execute_input": "2023-12-07T17:21:10.237856Z",
     "iopub.status.busy": "2023-12-07T17:21:10.237619Z",
     "iopub.status.idle": "2023-12-07T17:21:10.242861Z",
     "shell.execute_reply": "2023-12-07T17:21:10.242085Z"
    },
    "papermill": {
     "duration": 0.016955,
     "end_time": "2023-12-07T17:21:10.244834",
     "exception": false,
     "start_time": "2023-12-07T17:21:10.227879",
     "status": "completed"
    },
    "tags": []
   },
   "outputs": [
    {
     "data": {
      "text/plain": [
       "'X_train = np.array(X_train)\\ny_train = np.array(y_train)\\nX_valid = np.array(X_valid)\\ny_valid = np.array(y_valid)'"
      ]
     },
     "execution_count": 19,
     "metadata": {},
     "output_type": "execute_result"
    }
   ],
   "source": [
    "'''X_train = np.array(X_train)\n",
    "y_train = np.array(y_train)\n",
    "X_valid = np.array(X_valid)\n",
    "y_valid = np.array(y_valid)'''"
   ]
  },
  {
   "cell_type": "code",
   "execution_count": 20,
   "id": "0cac9e68",
   "metadata": {
    "execution": {
     "iopub.execute_input": "2023-12-07T17:21:10.264571Z",
     "iopub.status.busy": "2023-12-07T17:21:10.264323Z",
     "iopub.status.idle": "2023-12-07T17:21:10.269291Z",
     "shell.execute_reply": "2023-12-07T17:21:10.268483Z"
    },
    "papermill": {
     "duration": 0.016868,
     "end_time": "2023-12-07T17:21:10.271094",
     "exception": false,
     "start_time": "2023-12-07T17:21:10.254226",
     "status": "completed"
    },
    "tags": []
   },
   "outputs": [
    {
     "data": {
      "text/plain": [
       "'X_train = [item for sublist in X_train for item in sublist]\\nX_valid = [item for sublist in X_valid for item in sublist]'"
      ]
     },
     "execution_count": 20,
     "metadata": {},
     "output_type": "execute_result"
    }
   ],
   "source": [
    "'''X_train = [item for sublist in X_train for item in sublist]\n",
    "X_valid = [item for sublist in X_valid for item in sublist]'''"
   ]
  },
  {
   "cell_type": "code",
   "execution_count": 21,
   "id": "0bea4737",
   "metadata": {
    "execution": {
     "iopub.execute_input": "2023-12-07T17:21:10.291271Z",
     "iopub.status.busy": "2023-12-07T17:21:10.290734Z",
     "iopub.status.idle": "2023-12-07T17:21:14.289269Z",
     "shell.execute_reply": "2023-12-07T17:21:14.288494Z"
    },
    "papermill": {
     "duration": 4.010936,
     "end_time": "2023-12-07T17:21:14.291430",
     "exception": false,
     "start_time": "2023-12-07T17:21:10.280494",
     "status": "completed"
    },
    "tags": []
   },
   "outputs": [],
   "source": [
    "train_set = tf.data.Dataset.from_tensor_slices((X_train, y_train))\n",
    "valid_set = tf.data.Dataset.from_tensor_slices((X_valid, y_valid))"
   ]
  },
  {
   "cell_type": "code",
   "execution_count": 22,
   "id": "9769a505",
   "metadata": {
    "execution": {
     "iopub.execute_input": "2023-12-07T17:21:14.314448Z",
     "iopub.status.busy": "2023-12-07T17:21:14.314167Z",
     "iopub.status.idle": "2023-12-07T17:21:15.021301Z",
     "shell.execute_reply": "2023-12-07T17:21:15.020274Z"
    },
    "papermill": {
     "duration": 0.720322,
     "end_time": "2023-12-07T17:21:15.023621",
     "exception": false,
     "start_time": "2023-12-07T17:21:14.303299",
     "status": "completed"
    },
    "tags": []
   },
   "outputs": [],
   "source": [
    "tf.random.set_seed(42)\n",
    "vocab_size = 2000\n",
    "text_vec_layer = tf.keras.layers.TextVectorization(max_tokens=vocab_size)\n",
    "text_vec_layer.adapt(train_set.map(lambda reviews, labels: reviews))"
   ]
  },
  {
   "cell_type": "code",
   "execution_count": 23,
   "id": "c2f61751",
   "metadata": {
    "execution": {
     "iopub.execute_input": "2023-12-07T17:21:15.044604Z",
     "iopub.status.busy": "2023-12-07T17:21:15.044274Z",
     "iopub.status.idle": "2023-12-07T17:21:15.055945Z",
     "shell.execute_reply": "2023-12-07T17:21:15.055080Z"
    },
    "papermill": {
     "duration": 0.02496,
     "end_time": "2023-12-07T17:21:15.058479",
     "exception": false,
     "start_time": "2023-12-07T17:21:15.033519",
     "status": "completed"
    },
    "tags": []
   },
   "outputs": [
    {
     "name": "stdout",
     "output_type": "stream",
     "text": [
      "Vocabulary: ['', '[UNK]', 'the', 'of', 'and', 'a', 'to', 'in', 'is', 'her', 'that', 'on', 'with', 'more', 'has', 'for', 'his', 'from', 'but', 'as', 'it', 'new', 'she', 'an', 'was', 'our', 'life', 'this', 'their', 'are', 'what', 'by', 'be', 'who', 'we', 'how', 'when', 'not', 'they', 'no', 'at', 'he', 'time', 'have', 'can', 'about', 'world', 'one', 'into', 'york', 'sleep', 'only', 'book', 'will', 'music', 'up', 'or', 'most', 'its', 'find', 'than', 'story', 'out', 'other', 'him', 'had', 'us', 'there', 'them', 'own', 'all', 'years', 'people', 'novel', 'history', 'family', 'even', 'were', 'power', 'mary', 'been', 'american', 'across', 'times', 'like', 'human', 'first', 'after', 'tells', 'series', 'revolution', 'powerful', 'now', 'never', 'love', 'father', 'young', 'work', 'through', 'so', 'memoir', 'lives', 'home', 'hero', 'every', 'does', 'city', 'both', 'become', 'art', 'yet', 'while', 'which', 'two', 'old', 'comic', 'year', 'war', 'stories', 'some', 'science', 'personal', 'over', 'once', 'narrative', 'graphic', 'darrow', 'because', 'awardwinning', 'author', 'america', 'against', 'would', 'together', 'tippett', 'team', 'still', 'sense', 'off', 'national', 'much', 'many', 'magazine', 'long', 'left', 'king', 'journey', 'if', 'idea', 'heart', 'frankenstein', 'found', 'fall', 'do', 'did', 'between', 'beauty', 'back', 'austin', 'also', 'alone', 'allie', '–', 'writer', 'woman', 'wisdom', 'whose', 'wave', 'until', 'these', 't', 'sweeping', 'school', 'room', 'relationship', 'mysterious', 'make', 'journalist', 'goes', 'force', 'filled', 'far', 'each', 'dream', 'day', 'dark', 'being', 'began', 'before', 'alive', '1', '\\xa0', 'watch', 'too', 'those', 'things', 'texas', 'tale', 'soul', 'son', 'society', 'six', 'sister', 'rest', 'remarkable', 'questions', 'profound', 'part', 'often', 'modern', 'midnight', 'little', 'late', 'just', 'islamic', 'iraq', 'hotel', 'health', 'gun', 'gray', 'girl', 'explores', 'enough', 'during', 'dramatic', 'determined', 'deeply', 'dangerous', 'course', 'comics', 'collection', 'cell', 'books', 'became', 'battle', 'artist', 'any', 'you', 'winner', 'winchester', 'where', 'well', 'ways', 'waves', 'wants', 'very', 'turtle', 'truth', 'true', 'town', 'titanic', 'third', 'technology', 'takes', 'take', 'system', 'such', 'struggle', 'states', 'spiritual', 'small', 'short', 'rockets', 'return', 'pulitzer', 'public', 'prentiss', 'political', 'places', 'past', 'north', 'need', 'miles', 'men', 'members', 'lord', 'loneliness', 'lived', 'leaders', 'issues', 'industry', 'images', 'high', 'haag', 'guns', 'green', 'greatest', 'great', 'go', 'get', 'friends', 'five', 'fight', 'fantasy', 'everything', 'everyone', 'ever', 'destructive', 'culture', 'crisis', 'control', 'college', 'character', 'change', 'century', 'call', 'brothers', 'big', 'bestselling', 'behind', 'away', 'around', 'age', 'adventure', 'account', 'your', 'writes', 'workers', 'wizard', 'without', 'winter', 'wilbur', 'why', 'walking', 'volume', 'visible', 'vibrant', 'unable', 'ultimately', 'twentiethcentury', 'told', 'though', 'terrifying', 'stuck', 'stone', 'stay', 'ss', 'sounds', 'sometimes', 'smarter', 'skye', 'skottie', 'shows', 'serious', 'secret', 'second', 'saw', 'sasuke', 'sarah', 'saga', 'rukia', 'romance', 'riveting', 'rhino', 'provocative', 'problems', 'problem', 'portrait', 'place', 'physics', 'person', 'peace', 'oz', 'orville', 'older', 'officer', 'ocean', 'nothing', 'noise', 'newspaper', 'natural', 'naruto', 'name', 'my', 'must', 'mr', 'mother', 'monster', 'mission', 'meet', 'meaning', 'mean', 'mccullough', 'man', 'male', 'lonely', 'listen', 'learned', 'land', 'know', 'katniss', 'jordanian', 'i', 'humor', 'huffington', 'homage', 'highly', 'herself', 'help', 'having', 'haunting', 'happened', 'growing', 'group', 'grew', 'gold', 'gives', 'getting', 'genius', 'freedom', 'follow', 'fire', 'few', 'face', 'extensive', 'exceptional', 'end', 'draw', 'discover', 'daughter', 'data', 'daring', 'danger', 'created', 'conversation', 'company', 'comes', 'collects', 'classical', 'chance', 'catherine', 'captured', 'captain', 'camp', 'californian', 'business', 'brown', 'bond', 'blue', 'blomkvist', 'best', 'beginning', 'award', 'artists', 'arms', 'another', 'americans', 'always', 'y', 'xl', 'writing', 'write', 'wonder', 'witness', 'winston', 'wild', 'wife', 'westish', 'weather', 'way', 'warrick', 'waking', 'voices', 'vocational', 'visions', 'violent', 'vicious', 'vaughan', 'upon', 'united', 'uniquely', 'unforgettable', 'understand', 'twotime', 'twentieth', 'trust', 'truly', 'trials', 'transform', 'threatens', 'teaching', 'syria', 'swells', 'survived', 'survive', 'success', 'student', 'striking', 'strapped', 'stranded', 'start', 'something', 'solomon', 'slowly', 'slater', 'since', 'simple', 'sides', 'sex', 'serial', 'sent', 'seems', 'seemingly', 'seemed', 'seeking', 'see', 'secrets', 'sandman', 'sami', 'same', 'running', 'run', 'role', 'rocket', 'risk', 'reveals', 'returns', 'result', 'responsibility', 'resilience', 'released', 'relationships', 'redemption', 'rebels', 'reaper', 'really', 'range', 'raising', 'raccoon', 'queens', 'promising', 'prize', 'private', 'possibility', 'popular', 'pipeline', 'persepolis', 'peculiar', 'passengers', 'parole', 'parker', 'paintings', 'pages', 'otherwise', 'others', 'original', 'origin', 'onto', 'oliver', 'nor', 'night', 'newman', 'needed', 'nearly', 'nature', 'mystery', 'moving', 'monsters', 'mind', 'million', 'milk', 'meant', 'means', 'may', 'matter', 'masters', 'masked', 'marjane', 'marcus', 'magical', 'madness', 'made', 'look', 'liz', 'live', 'leaving', 'league', 'leads', 'last', 'larger', 'krista', 'known', 'killer', 'keystone', 'katnisss', 'katherine', 'k', 'jordan', 'joby', 'job', 'jane', 'iran', 'investigation', 'interest', 'intensely', 'intelligence', 'instant', 'including', 'impact', 'imagination', 'iconic', 'ichigo', 'humanity', 'hospital', 'hopes', 'historian', 'himself', 'hiding', 'hes', 'hers', 'henry', 'hella', 'goldenage', 'glass', 'girlfriend', 'giant', 'generation', 'game', 'future', 'fur', 'funny', 'four', 'foundation', 'fortunately', 'forged', 'followed', 'fired', 'finally', 'fiction', 'fascinating', 'failure', 'expose', 'experiences', 'experience', 'examples', 'exactly', 'events', 'essence', 'essays', 'equally', 'epic', 'entire', 'enemies', 'embrace', 'doctor', 'district', 'different', 'didn’t', 'devastating', 'design', 'deprivation', 'decisions', 'death', 'david', 'dangers', 'dad', 'cultural', 'crimes', 'creator', 'courage', 'country', 'consequences', 'community', 'common', 'committed', 'come', 'climate', 'citizens', 'childrens', 'children', 'childhood', 'challenges', 'cause', 'castle', 'cartoonist', 'captures', 'capitol', 'cahalan', 'brought', 'bring', 'brian', 'breathtaking', 'boldly', 'better', 'bestseller', 'bennet', 'belong', 'becomes', 'baseball', 'avoid', 'authors', 'aspect', 'aside', 'arianna', 'answer', 'angels', 'among', 'america\\xa0is', 'allie’s', 'aid', 'aftermath', 'affenlight', 'advice', 'acclaimed', '13', '“little', '“i’m', '“in', '“big', '“best', '—the', 'zombie', 'zarqawi', 'youth', 'yorker', 'yorick', 'yoga', 'year”a', 'yearbook', 'ychromosome', 'wrong', 'writings', 'wrighton', 'wright', 'wounds', 'world’s', 'worlds', 'worked', 'words', 'wont', 'wonderlandstyle', 'won', 'women', 'woman’s', 'woke', 'within', 'wise', 'wide', 'whom', 'wholly', 'whatever', 'we’re', 'western', 'werelion', 'wellknown', 'weight', 'wed', 'watchers', 'watched', 'warriors', 'warnings', 'warming', 'wanting', 'w', 'vulnerability', 'vs', 'voyage', 'voltage', 'voiceovers', 'vivid', 'vital', 'visit', 'victor', 'version', 'verge', 'vast', 'variety', 'vanish', 'value', 'using', 'used', 'upendedhenry’s', 'upended', 'unwitting', 'unsettling', 'unrelated', 'unknown', 'universe', 'unique', 'unforeseeable', 'unfoldingit', 'unexpectedly', 'unemployed', 'understanding', 'underlie', 'undergoing', 'uncontrollable', 'ultimate', 'uganda', 'tóibín’s', 'tyler', 'twentyfouryearold', 'turns', 'turned', 'triumphs', 'triumphant', 'trip', 'trick', 'tribute', 'trap', 'transplant', 'transitionfar', 'transition', 'transfers', 'trainingafter', 'trafficking', 'toward', 'toldin', 'todays', 'today', 'tippetts', 'time—a', 'timealice', 'throw', 'throughout', 'thrilling', 'thriller', 'thrill', 'threats', 'threat', 'thousands', 'thirties', 'thinkers', 'thing', 'they’re', 'then', 'themselves', 'theirs', 'that’s', 'testy', 'testament', 'terrorized', 'tehran', 'teenagers', 'teenager', 'technologies', 'taught', 'taras', 'tank', 'talking', 'taken', 'swinging', 'swedish', 'sweden', 'swan', 'suspicious', 'susannah', 'surprises', 'surf', 'sure', 'superstar', 'summer', 'succeeded', 'subversive', 'subject', 'study', 'strip', 'strange', 'strain', 'storybehindthestory', 'stopped', 'stock', 'stint', 'steven', 'stephen', 'step', 'status', 'stats', 'state', 'started', 'starred', 'stardom', 'star', 'stanley', 'stalked', 'spring', 'spread', 'spirits', 'special', 'speak', 'soviet', 'souldevouring', 'sons', 'someone', 'solved', 'solomon’s', 'solitary', 'soldiers', 'sociologist', 'societys', 'sober', 'smoothing', 'smashes', 'sleeping', 'skrimshander', 'skilled', 'sixth', 'sitting', 'single', 'sincerity', 'shouting', 'should', 'shore', 'shocking', 'ship', 'shinobi', 'shiner', 'shine', 'shifts—political', 'she’d', 'shes', 'shelley', 'shattered', 'sharp', 'shame', 'shakespeares', 'shakespeare', 'shadow', 'sexy', 'sets', 'serves', 'seriesalexis', 'sentence', 'sell', 'selfdoubt', 'seismic', 'seasons', 'season', 'seagle', 'scientists', 'scene', 'scare', 'satrapi’s', 'satrapi', 'sargent', 'sank', 'sanctified', 'san', 'safe', 's', 'runofthemill', 'ruin', 'routine', 'romero', 'rivalries', 'risking', 'rises', 'rise', 'ripper', 'rigorous', 'ride', 'rhinos', 'review', 'revelatory', 'retelling', 'resisting', 'resisted', 'rescued', 'representation', 'repose', 'reports', 'reporter', 'reportage', 'repeating', 'renewing', 'renaissance', 'remote', 'remains', 'reluctant', 'relation', 'refuse', 'refuge', 'reenergize', 'recovered', 'reconnect', 'recognize', 'recapture', 'rebuild', 'realworld', 'reality', 'realistic', 'readers', 'raven', 'raul', 'rat', 'ranks', 'random', 'quoted', 'question', 'push', 'purest', 'publisher', 'psychic', 'provides', 'provide', 'profoundly', 'produce', 'probable', 'prizewinning', 'prisoners', 'prison', 'pride', 'president', 'presents', 'presence', 'prejudicethis', 'post', 'pollock', 'politics', 'policy', 'please', 'planet', 'plains', 'plague', 'placed', 'picasso', 'pi', 'physically', 'photography', 'phones', 'peter', 'performance', 'penchant', 'peeta', 'peaks', 'peabody', 'passionate', 'paranormal', 'pamela', 'page', 'paced', 'owning', 'overturns', 'overthrow', 'overlords', 'overlook', 'outpost', 'outer', 'ourselves—both', 'orphanage', 'originating', 'opposite', 'opportunity', 'operation', 'on—is', 'olds', 'ohio', 'offshoring', 'offers', 'occur', 'obsolete', 'obsessed', 'obscure', 'obedience', 'novels', 'note', 'notable', 'none', 'ninjait’s', 'nights', 'neverending', 'neurological', 'neglected', 'needing', 'nearby', 'nations', 'nationor', 'muscle', 'murders', 'murderous', 'ms', 'moves', 'movement', 'move', 'morpheuss', 'morpheus', 'moral', 'monkey', 'moment', 'mom', 'mischief', 'minor', 'millennium', 'military', 'militant', 'mikael', 'mightiest', 'might', 'midsummers', 'midst', 'midnightwith', 'middle', 'michigan', 'metropolis', 'met', 'mere', 'mention', 'memory', 'meets', 'meditation', 'medical', 'medalist', 'mayhem', 'match', 'master', 'mass', 'marvel', 'marshall', 'marry', 'man’s', 'making', 'makers', 'major', 'magic', 'lust', 'loving', 'loved', 'lost', 'los', 'looked', 'longtime', 'longneglected', 'london', 'living', 'listens', 'listening', 'lines', 'limits', 'lifeless', 'letter', 'lessons', 'length', 'latter', 'lake', 'laing', 'lady', 'lacks', 'labyrinth', 'labor', 'kyo', 'kurosaki', 'knack', 'kingsbury', 'kings', 'kin', 'kills', 'killeramericas', 'kept', 'keep', 'katzenstein', 'katrina', 'karen', 'kakashi', 'joe', 'jessica', 'jeannettes', 'jason', 'james', 'jackson', 'jack', 'i’ve', 'isolated', 'islam', 'isis', 'irresistible', 'irrefutable', 'in\\xa0becoming', 'intoxication', 'intoxicating', 'intimately', 'intimate', 'interviewed', 'intervention', 'interpret', 'instructor', 'insights', 'insightful', 'innocence', 'injustice', 'injured', 'industrial', 'individuals', 'indelible', 'incorrigible', 'inadvertently', 'improbable', 'important', 'implicating', 'imperfection', 'illuminating', 'idly', 'identitywhen', 'identitythe', 'idea—to', 'iceberg', 'hurricane', 'hundred', 'humanities', 'housing', 'house', 'hottempered', 'horrors', 'horror', 'horrific', 'honor', 'hollows', 'holds', 'histories', 'historical', 'hike', 'he’s', 'here', 'herbert', 'henry’s', 'help—and', 'helps', 'heavily', 'heartbreaking', 'heartbreak', 'headlines', 'haven’t', 'happiness', 'hanged', 'halloran', 'half', 'gunning', 'guert', 'grownup', 'greatly', 'governmentbut', 'gotten', 'gothic', 'got', 'goriest', 'going', 'given', 'girldeadpoolesque', 'gigabytes', 'gifts', 'gift', 'gert', 'germany', 'george', 'geology', 'genre', 'generations', 'generated', 'gale', 'galactic', 'gaining', 'frozen', 'frighteningly', 'friendship', 'friendsdespite', 'friend', 'fresh', 'free', 'francisco', 'fragile', 'fourteen', 'fought', 'forty', 'foreverconvicted', 'forecasts', 'foot', 'fly', 'flight', 'fitting', 'firstwho', 'films', 'fighting', 'felt', 'fellow', 'feet', 'feels', 'feelings', 'fearlessly', 'fates', 'farfetched', 'fantasyadventure', 'fans', 'famous', 'family—and', 'falls', 'fallen', 'faithful', 'faith', 'fairyland', 'faced', 'eyes', 'extremes', 'extraordinary', 'explosive', 'explosion', 'explore', 'expertly', 'exist', 'exception', 'evil', 'evident', 'evidence', 'everdeenwhy', 'everdeen', 'eventually', 'evening', 'eve', 'evan', 'europe', 'ethereal', 'especially', 'escaped', 'escape', 'erotic', 'ephesus', 'ensures', 'enslaved', 'enough”', 'engineering', 'engaged', 'ending', 'empty', 'emperors', 'emerging', 'eliot', 'elephant', 'elaborate', 'eighteen', 'eight', 'education', 'editor', 'echo', 'eastern', 'easily', 'earth', 'earlier', 'dysfunctional', 'dreaming', 'drawn', 'drawing', 'drank', 'downtown', 'downsizing', 'down', 'door', 'dollars', 'doing', 'divine', 'distress', 'dishonest', 'discovering', 'disciplines', 'disastrously', 'disasters', 'disaster', 'disappointment', 'dimensions', 'died', 'develop', 'destroys', 'destroyed', 'destined', 'derek', 'denominations”', 'demanded', 'delightfully', 'delectable', 'delayed', 'deidara’s', 'deidara', 'deep', 'dedicated', 'decided', 'december', 'deceased', 'decades', 'decade', 'debut', 'deadset', 'deadkatniss', 'deadi', 'days', 'data”—the', 'data”', 'darcy—is', 'danny', 'daily', 'cutthroat', 'cute', 'cut', 'cusp', 'culminates', 'crusading', 'crusader', 'cruel', 'crucifixion', 'critics’', 'critic', 'crime', 'create', 'crazy', 'crashes', 'crash', 'crafted', 'courageous', 'countless', 'could…ms', 'could', 'cost', 'cosmopolitan', 'correspondence', 'core', 'conventional', 'contradictions', 'continued', 'consumes', 'considered', 'connect', 'condition', 'concludes', 'concerned', 'concepts', 'concept', 'composers', 'completely', 'companion', 'commit', 'comix', 'colm', 'collecting', 'collar', 'collaborating', 'cofounder', 'closer', 'closed', 'climbed', 'clear', 'classic', 'class', 'civilians', 'circle', 'cincinnati', 'cia', 'chronicling', 'chronicles', 'chronicle', 'christianityin', 'chip', 'chief', 'charismatic', 'charge', 'characters—for', 'changed', 'cautionary', 'cauterizes', 'cats', 'catch', 'casting', 'carriers', 'carolina', 'caretaker', 'career', 'car', 'capture', 'capable', 'cannot', 'called', 'bursting', 'buried', 'buff', 'bubble', 'brutally', 'broadcaster', 'brilliant', 'brené', 'breed', 'breach', 'brave', 'brand', 'brain', 'boys', 'boy', 'boston', 'booka', 'bonds', 'bombings', 'bodyguards', 'body', 'bloodspattered', 'blood', 'blizzards', 'bleach', 'blackandwhite', 'black', 'biography', 'beyond', 'bewildering', 'bestsellerwise', 'bestsellers', 'bestowing', 'beneficent', 'ben', 'believe', 'belief', 'beings', 'begun', 'bed', 'beach', 'battled', 'batch', 'based', 'barricades', 'barely', 'bare', 'banner', 'banks', 'bachelor', 'award—and', 'average', 'author—it’s', 'audiences', 'atlantic', 'asserts', 'assembles', 'asian', 'array', 'armed', 'april', 'approximately', 'apart', 'animation', 'animals', 'angeles', 'andrew', 'ancient', 'ampersand', 'amendment', 'am', 'altered', 'alqaeda', 'along', 'almost', 'allpowerful', 'allnew', 'alienated', 'alerted', 'aglow', 'aggressive', 'ages', 'advertising', 'adam', 'accidentally', 'access', 'able', 'ability', 'abdullah', '6', '30', '24', '217', '2008', '2006', '1999', '1912', '1903', '1885in', '1884', '1800s', '15yearold', '1500', '14', '10', '“worth', '“sold', '“group', '“a', '—kirkus', '—booklist', '–\\xa0from\\xa0weight', '\\xa0and', 'zarqawis', 'you’ll', 'yes', 'ye', 'yann', 'yanks', 'yang', 'xl’s', 'wucker', 'wrote', 'written', 'writers', 'wrightfar', 'wrapping', 'worshipful', 'worse', 'worldwide', 'works', 'workouts', 'working', 'won’t', 'wolitzers', 'wit\\xa0trespassing', 'wittrespassing', 'withinfinally', 'wish', 'wise\\xa0is', 'wisebeyondheryears', 'wiping', 'wings', 'window', 'winchester—a', 'win', 'willingness', 'wields', 'whole', 'whippings', 'whether', 'wherever', 'whenever', 'what”—along', 'werewolves', 'werecats', 'wellbeing', 'weaves', 'weave', 'weapon', 'way—and', 'watches', 'wasted', 'wars', 'warmhearted', 'warhols', 'warfare', 'want', 'wannabes', 'walls', 'waited', 'vision', 'vinnies', 'view', 'vienna', 'victims', 'vertigo', 'verdict', 'vengeance', 'velvet', 'vehicles', 'us–we', 'us–a', 'use', 'urban', 'upheaval', 'upbringing', 'unthinkable', 'unsuspecting', 'unstable', 'unschooled', 'unreachable', 'unravel', 'unquestionably', 'unmatched', 'unmake', 'unlikely', 'unleashes', 'unleash', 'university', 'universal', 'unique—and', 'unionall', 'union', 'ungoverned', 'unexceptional', 'unemployment', 'unease', 'undermines', 'underground', 'under', 'uncovers', 'ultraconservative', 'typewritersfocusing', 'twentyfive', 'twenties', 'tv', 'tuned', 'tuesdaynight', 'tuesday', 'tudor', 'trying', 'troubled', 'triumph', 'trio', 'trespassing', 'trek', 'travels', 'travel', 'transformed', 'transcendent', 'trampled', 'trajectory', 'training', 'trained', 'tragic', 'tragedy', 'tragedies', 'tradition', 'tracking', 'traces', 'tower', 'touted', 'tour', 'tormented', 'topics', 'took', 'toibin’s', 'tohru', 'tips', 'times“an', 'timesbestselling', 'tiger', 'thumb', 'thrillers', 'threshold', 'threatfrom', 'threads', 'thousand', 'thirty', 'thirdclass', 'the\\xa0mystery', 'they’ve', 'theologians', 'themselves”', 'tested', 'terrorize', 'terrorist', 'terrorism', 'terrible', 'terrain', 'tenderness', 'tenacious', 'ten', 'telling', 'tell', 'telgemeiers', 'technological', 'techniques', 'technically', 'technical', 'tears', 'tear', 'teammate', 'teachers', 'tattoo', 'tar', 'taps', 'tap', 'tampering', 'tamil', 'taliban', 'tale…as', 'taking', 'syrian', 'synesthetic', 'sword', 'swift', 'sweet', 'sustained', 'suspenseful', 'survives', 'survival', 'surrender', 'surprising', 'supplies', 'supplied', 'superheronow', 'superhero', 'suits', 'suicide', 'successful', 'substitute', 'su', 'struggled', 'stronger', 'strong', 'strike', 'strength', 'strategically', 'storm', 'stolen', 'stewards', 'stereotype', 'stephanie', 'steel', 'steadman', 'statistician', 'statesanctioned', 'start\\xa0', 'stalker', 'stalins', 'squad', 'sprawling', 'spr', 'spirituality', 'spirit', 'spiral', 'spent', 'spend', 'specialized', 'spaces', 'space', 'sources', 'soundtracks', 'sought', 'soon', 'sonny', 'somewhere', 'somehow', 'sold', 'soho', 'sohma', 'sociologists', 'social', 'soaked', 'smile', 'sleepdeprived', 'slee', 'slayings', 'skip', 'skills', 'sixties', 'sisters', 'sing', 'simplifications', 'silent', 'signature', 'side', 'shuttle', 'showing', 'show', 'shirtmaker', 'shipwreck', 'ships', 'shimmering', 'shelter', 'sheds', 'shatters', 'shaped', 'shameful', 'shah’s', 'shadows', 'shackled', 'sexuality', 'seventy', 'seventies', 'seven', 'settle', 'setmillions', 'september', 'sensuous', 'sends', 'semblance', 'selfevident', 'seized', 'seeped', 'seen', 'seem', 'seek', 'sectors', 'secret—one', 'secretly', 'secondary', 'seashore', 'searing', 'searching', 'sea', 'scruple', 'scripture', 'screenswhen', 'scrapbooks', 'scientifically', 'schwartz', 'scandal', 'says', 'save', 'sasuke’s', 'sands', 'sample', 'sales', 'salander’s', 'salander—the', 'salander', 'sake', 'safety', 'saddam', 'sacrifice', 'sacks', 'ruthlessly', 'russia', 'runs', 'runni', 'route', 'roommate', 'rods', 'rock', 'road', 'risktaking', 'risks', 'risked', 'rising', 'ripples', 'rip', 'riots', 'right', 'rifle', 'riddell', 'riches', 'richerthis', 'richard', 'rich', 'revolution\\xa0both', 'revolution\\xa0', 'revolutions', 'revivify', 'revived', 'revisit', 'revises', 'reviews', 'reviewing', 'revenge', 'revealing\\xa0the', 'revealed', 'reveal', 'revamp', 'returning', 'retirement', 'retiree', 'retail', 'results', 'resulting', 'restorative', 'responsibilities', 'resolution', 'research', 'rescue', 'require', 'republicans', 'repression', 'reporters', 'renewed', 'renders', 'renamed', 'reminder', 'relevant', 'relentless', 'reinventing', 'regularly', 'regime', 'refusing', 'reflective', 'reflection', 'reevaluation', 'reductive', 'rediscover', 'redefine', 'redeemedhumane', 'recommendations', 'recoils', 'recesses', 'recently', 'receiving', 'rebirth', 'rebellion', 'realizes', 'realized', 'readingwhen', 'reading', 'readcollects', 'reached', 'raw', 'raul’s', 'rather', 'rapidly', 'ranging', 'ranger', 'ramirez', 'rallied', 'raises', 'rainy', 'raina', 'rain', 'rage', 'radio', 'radicals', 'radical', 'race', 'quo', 'question—“now', 'quell', 'quarter', 'qualms', 'quaint']\n"
     ]
    }
   ],
   "source": [
    "print(\"Vocabulary:\", text_vec_layer.get_vocabulary())"
   ]
  },
  {
   "cell_type": "markdown",
   "id": "498aa1af",
   "metadata": {
    "papermill": {
     "duration": 0.009699,
     "end_time": "2023-12-07T17:21:15.078027",
     "exception": false,
     "start_time": "2023-12-07T17:21:15.068328",
     "status": "completed"
    },
    "tags": []
   },
   "source": [
    "# **RNNs**"
   ]
  },
  {
   "cell_type": "code",
   "execution_count": 24,
   "id": "da7ef935",
   "metadata": {
    "execution": {
     "iopub.execute_input": "2023-12-07T17:21:15.098938Z",
     "iopub.status.busy": "2023-12-07T17:21:15.098660Z",
     "iopub.status.idle": "2023-12-07T17:21:15.102481Z",
     "shell.execute_reply": "2023-12-07T17:21:15.101714Z"
    },
    "papermill": {
     "duration": 0.01651,
     "end_time": "2023-12-07T17:21:15.104325",
     "exception": false,
     "start_time": "2023-12-07T17:21:15.087815",
     "status": "completed"
    },
    "tags": []
   },
   "outputs": [],
   "source": [
    "embedding_dim = 32  \n",
    "num_classes = 5"
   ]
  },
  {
   "cell_type": "code",
   "execution_count": 25,
   "id": "9aa8d82d",
   "metadata": {
    "execution": {
     "iopub.execute_input": "2023-12-07T17:21:15.168351Z",
     "iopub.status.busy": "2023-12-07T17:21:15.168003Z",
     "iopub.status.idle": "2023-12-07T17:21:26.065220Z",
     "shell.execute_reply": "2023-12-07T17:21:26.064386Z"
    },
    "papermill": {
     "duration": 10.910287,
     "end_time": "2023-12-07T17:21:26.067259",
     "exception": false,
     "start_time": "2023-12-07T17:21:15.156972",
     "status": "completed"
    },
    "tags": []
   },
   "outputs": [
    {
     "name": "stdout",
     "output_type": "stream",
     "text": [
      "Epoch 1/10\n",
      "2/2 [==============================] - 7s 219ms/step - loss: 1.6109 - accuracy: 0.2391\n",
      "Epoch 2/10\n",
      "2/2 [==============================] - 0s 215ms/step - loss: 1.6013 - accuracy: 0.2609\n",
      "Epoch 3/10\n",
      "2/2 [==============================] - 0s 215ms/step - loss: 1.5951 - accuracy: 0.3043\n",
      "Epoch 4/10\n",
      "2/2 [==============================] - 0s 217ms/step - loss: 1.5867 - accuracy: 0.2826\n",
      "Epoch 5/10\n",
      "2/2 [==============================] - 0s 229ms/step - loss: 1.5793 - accuracy: 0.2826\n",
      "Epoch 6/10\n",
      "2/2 [==============================] - 0s 219ms/step - loss: 1.5712 - accuracy: 0.2826\n",
      "Epoch 7/10\n",
      "2/2 [==============================] - 0s 215ms/step - loss: 1.5667 - accuracy: 0.2826\n",
      "Epoch 8/10\n",
      "2/2 [==============================] - 0s 215ms/step - loss: 1.5579 - accuracy: 0.2826\n",
      "Epoch 9/10\n",
      "2/2 [==============================] - 0s 218ms/step - loss: 1.5538 - accuracy: 0.2826\n",
      "Epoch 10/10\n",
      "2/2 [==============================] - 0s 223ms/step - loss: 1.5463 - accuracy: 0.2826\n"
     ]
    }
   ],
   "source": [
    "tf.random.set_seed(42)\n",
    "tf.keras.backend.clear_session()\n",
    "\n",
    "model = tf.keras.Sequential([\n",
    "    text_vec_layer,\n",
    "    tf.keras.layers.Embedding(input_dim=vocab_size, output_dim=embedding_dim),\n",
    "    tf.keras.layers.GRU(128),\n",
    "    tf.keras.layers.Dense(units=num_classes, activation='softmax')\n",
    "])\n",
    "\n",
    "# Compile the model\n",
    "model.compile(optimizer='adam', loss='sparse_categorical_crossentropy', metrics=['accuracy'])\n",
    "\n",
    "\n",
    "history = model.fit(X_train, y_train, epochs=10)"
   ]
  },
  {
   "cell_type": "code",
   "execution_count": 26,
   "id": "8460448a",
   "metadata": {
    "execution": {
     "iopub.execute_input": "2023-12-07T17:21:26.095876Z",
     "iopub.status.busy": "2023-12-07T17:21:26.095562Z",
     "iopub.status.idle": "2023-12-07T17:21:36.001056Z",
     "shell.execute_reply": "2023-12-07T17:21:36.000017Z"
    },
    "papermill": {
     "duration": 9.922421,
     "end_time": "2023-12-07T17:21:36.003394",
     "exception": false,
     "start_time": "2023-12-07T17:21:26.080973",
     "status": "completed"
    },
    "tags": []
   },
   "outputs": [
    {
     "name": "stdout",
     "output_type": "stream",
     "text": [
      "Epoch 1/10\n",
      "2/2 [==============================] - 6s 165ms/step - loss: 1.6078 - accuracy: 0.2391\n",
      "Epoch 2/10\n",
      "2/2 [==============================] - 0s 162ms/step - loss: 1.5948 - accuracy: 0.3043\n",
      "Epoch 3/10\n",
      "2/2 [==============================] - 0s 163ms/step - loss: 1.5851 - accuracy: 0.2826\n",
      "Epoch 4/10\n",
      "2/2 [==============================] - 0s 163ms/step - loss: 1.5714 - accuracy: 0.2826\n",
      "Epoch 5/10\n",
      "2/2 [==============================] - 0s 174ms/step - loss: 1.5557 - accuracy: 0.2826\n",
      "Epoch 6/10\n",
      "2/2 [==============================] - 0s 167ms/step - loss: 1.5378 - accuracy: 0.2826\n",
      "Epoch 7/10\n",
      "2/2 [==============================] - 0s 162ms/step - loss: 1.5249 - accuracy: 0.2826\n",
      "Epoch 8/10\n",
      "2/2 [==============================] - 0s 163ms/step - loss: 1.5081 - accuracy: 0.2826\n",
      "Epoch 9/10\n",
      "2/2 [==============================] - 0s 161ms/step - loss: 1.4900 - accuracy: 0.3043\n",
      "Epoch 10/10\n",
      "2/2 [==============================] - 0s 164ms/step - loss: 1.4740 - accuracy: 0.4130\n"
     ]
    }
   ],
   "source": [
    "tf.random.set_seed(42)\n",
    "tf.keras.backend.clear_session()\n",
    "\n",
    "model = tf.keras.Sequential([\n",
    "    text_vec_layer,\n",
    "    tf.keras.layers.Embedding(input_dim=vocab_size, output_dim=embedding_dim,mask_zero=True),\n",
    "    tf.keras.layers.GRU(256),\n",
    "    tf.keras.layers.Dense(units=num_classes, activation='softmax')\n",
    "])\n",
    "\n",
    "# Compile the model\n",
    "model.compile(optimizer='adam', loss='sparse_categorical_crossentropy', metrics=['accuracy'])\n",
    "\n",
    "\n",
    "history = model.fit(X_train, y_train, epochs=10)"
   ]
  },
  {
   "cell_type": "code",
   "execution_count": 27,
   "id": "faea5c08",
   "metadata": {
    "execution": {
     "iopub.execute_input": "2023-12-07T17:21:36.037191Z",
     "iopub.status.busy": "2023-12-07T17:21:36.036859Z",
     "iopub.status.idle": "2023-12-07T17:21:36.248470Z",
     "shell.execute_reply": "2023-12-07T17:21:36.247539Z"
    },
    "papermill": {
     "duration": 0.230767,
     "end_time": "2023-12-07T17:21:36.250590",
     "exception": false,
     "start_time": "2023-12-07T17:21:36.019823",
     "status": "completed"
    },
    "tags": []
   },
   "outputs": [],
   "source": [
    "text_vec_layer_ragged = tf.keras.layers.TextVectorization(\n",
    "    max_tokens=vocab_size, ragged=True)\n",
    "text_vec_layer_ragged.adapt(train_set.map(lambda reviews, labels: reviews))"
   ]
  },
  {
   "cell_type": "code",
   "execution_count": 28,
   "id": "112fa555",
   "metadata": {
    "execution": {
     "iopub.execute_input": "2023-12-07T17:21:36.284368Z",
     "iopub.status.busy": "2023-12-07T17:21:36.284001Z",
     "iopub.status.idle": "2023-12-07T17:21:44.172498Z",
     "shell.execute_reply": "2023-12-07T17:21:44.171499Z"
    },
    "papermill": {
     "duration": 7.907843,
     "end_time": "2023-12-07T17:21:44.174587",
     "exception": false,
     "start_time": "2023-12-07T17:21:36.266744",
     "status": "completed"
    },
    "tags": []
   },
   "outputs": [
    {
     "name": "stdout",
     "output_type": "stream",
     "text": [
      "Epoch 1/10\n",
      "2/2 [==============================] - 3s 262ms/step - loss: 1.6106 - accuracy: 0.1522\n",
      "Epoch 2/10\n",
      "2/2 [==============================] - 1s 259ms/step - loss: 1.5938 - accuracy: 0.3043\n",
      "Epoch 3/10\n",
      "2/2 [==============================] - 1s 258ms/step - loss: 1.5805 - accuracy: 0.2826\n",
      "Epoch 4/10\n",
      "2/2 [==============================] - 1s 261ms/step - loss: 1.5590 - accuracy: 0.2826\n",
      "Epoch 5/10\n",
      "2/2 [==============================] - 0s 206ms/step - loss: 1.5333 - accuracy: 0.2826\n",
      "Epoch 6/10\n",
      "2/2 [==============================] - 1s 266ms/step - loss: 1.5570 - accuracy: 0.2826\n",
      "Epoch 7/10\n",
      "2/2 [==============================] - 1s 253ms/step - loss: 1.5073 - accuracy: 0.2826\n",
      "Epoch 8/10\n",
      "2/2 [==============================] - 1s 255ms/step - loss: 1.5031 - accuracy: 0.4348\n",
      "Epoch 9/10\n",
      "2/2 [==============================] - 1s 264ms/step - loss: 1.4903 - accuracy: 0.6957\n",
      "Epoch 10/10\n",
      "2/2 [==============================] - 1s 267ms/step - loss: 1.4702 - accuracy: 0.5000\n"
     ]
    }
   ],
   "source": [
    "tf.random.set_seed(42)\n",
    "tf.keras.backend.clear_session()\n",
    "\n",
    "model = tf.keras.Sequential([\n",
    "    text_vec_layer_ragged,\n",
    "    tf.keras.layers.Embedding(input_dim=vocab_size, output_dim=embedding_dim),\n",
    "    tf.keras.layers.GRU(512),\n",
    "    tf.keras.layers.Dense(units=num_classes, activation='softmax')\n",
    "])\n",
    "\n",
    "# Compile the model\n",
    "model.compile(optimizer='adam', loss='sparse_categorical_crossentropy', metrics=['accuracy'])\n",
    "\n",
    "\n",
    "history = model.fit(X_train, y_train, epochs=10)"
   ]
  },
  {
   "cell_type": "code",
   "execution_count": 29,
   "id": "38a35ed1",
   "metadata": {
    "execution": {
     "iopub.execute_input": "2023-12-07T17:21:44.214660Z",
     "iopub.status.busy": "2023-12-07T17:21:44.214358Z",
     "iopub.status.idle": "2023-12-07T17:22:28.715633Z",
     "shell.execute_reply": "2023-12-07T17:22:28.714560Z"
    },
    "papermill": {
     "duration": 44.523602,
     "end_time": "2023-12-07T17:22:28.718029",
     "exception": false,
     "start_time": "2023-12-07T17:21:44.194427",
     "status": "completed"
    },
    "tags": []
   },
   "outputs": [
    {
     "name": "stdout",
     "output_type": "stream",
     "text": [
      "Epoch 1/30\n",
      "2/2 [==============================] - 5s 340ms/step - loss: 1.6104 - accuracy: 0.2174\n",
      "Epoch 2/30\n",
      "2/2 [==============================] - 1s 334ms/step - loss: 1.5997 - accuracy: 0.2826\n",
      "Epoch 3/30\n",
      "2/2 [==============================] - 1s 331ms/step - loss: 4.3689 - accuracy: 0.2826\n",
      "Epoch 4/30\n",
      "2/2 [==============================] - 1s 339ms/step - loss: 3.8471 - accuracy: 0.2391\n",
      "Epoch 5/30\n",
      "2/2 [==============================] - 1s 350ms/step - loss: 1.5982 - accuracy: 0.3696\n",
      "Epoch 6/30\n",
      "2/2 [==============================] - 1s 334ms/step - loss: 1.5929 - accuracy: 0.4565\n",
      "Epoch 7/30\n",
      "2/2 [==============================] - 1s 329ms/step - loss: 1.5872 - accuracy: 0.4348\n",
      "Epoch 8/30\n",
      "2/2 [==============================] - 1s 329ms/step - loss: 1.5803 - accuracy: 0.5000\n",
      "Epoch 9/30\n",
      "2/2 [==============================] - 1s 332ms/step - loss: 1.5712 - accuracy: 0.6304\n",
      "Epoch 10/30\n",
      "2/2 [==============================] - 1s 351ms/step - loss: 1.5610 - accuracy: 0.6522\n",
      "Epoch 11/30\n",
      "2/2 [==============================] - 1s 353ms/step - loss: 1.5477 - accuracy: 0.6522\n",
      "Epoch 12/30\n",
      "2/2 [==============================] - 1s 333ms/step - loss: 1.5316 - accuracy: 0.5217\n",
      "Epoch 13/30\n",
      "2/2 [==============================] - 1s 338ms/step - loss: 1.5091 - accuracy: 0.5217\n",
      "Epoch 14/30\n",
      "2/2 [==============================] - 0s 365ms/step - loss: 1.4817 - accuracy: 0.5000\n",
      "Epoch 15/30\n",
      "2/2 [==============================] - 1s 349ms/step - loss: 1.5204 - accuracy: 0.6304\n",
      "Epoch 16/30\n",
      "2/2 [==============================] - 1s 334ms/step - loss: 1.4577 - accuracy: 0.5652\n",
      "Epoch 17/30\n",
      "2/2 [==============================] - 1s 336ms/step - loss: 1.4240 - accuracy: 0.6522\n",
      "Epoch 18/30\n",
      "2/2 [==============================] - 1s 323ms/step - loss: 1.3352 - accuracy: 0.7174\n",
      "Epoch 19/30\n",
      "2/2 [==============================] - 1s 334ms/step - loss: 3.0970 - accuracy: 0.2609\n",
      "Epoch 20/30\n",
      "2/2 [==============================] - 1s 355ms/step - loss: 1.3806 - accuracy: 0.6087\n",
      "Epoch 21/30\n",
      "2/2 [==============================] - 1s 351ms/step - loss: 1.3417 - accuracy: 0.6522\n",
      "Epoch 22/30\n",
      "2/2 [==============================] - 1s 322ms/step - loss: 1.2672 - accuracy: 0.7174\n",
      "Epoch 23/30\n",
      "2/2 [==============================] - 0s 121ms/step - loss: 1.2912 - accuracy: 0.6304\n",
      "Epoch 24/30\n",
      "2/2 [==============================] - 1s 329ms/step - loss: 1.1745 - accuracy: 0.6522\n",
      "Epoch 25/30\n",
      "2/2 [==============================] - 1s 357ms/step - loss: 1.4595 - accuracy: 0.4565\n",
      "Epoch 26/30\n",
      "2/2 [==============================] - 0s 334ms/step - loss: 1.3197 - accuracy: 0.7174\n",
      "Epoch 27/30\n",
      "2/2 [==============================] - 0s 364ms/step - loss: 1.3435 - accuracy: 0.6522\n",
      "Epoch 28/30\n",
      "2/2 [==============================] - 0s 336ms/step - loss: 1.3370 - accuracy: 0.6739\n",
      "Epoch 29/30\n",
      "2/2 [==============================] - 0s 342ms/step - loss: 1.6392 - accuracy: 0.6522\n",
      "Epoch 30/30\n",
      "2/2 [==============================] - 1s 380ms/step - loss: 1.4098 - accuracy: 0.6957\n"
     ]
    }
   ],
   "source": [
    "tf.random.set_seed(42)\n",
    "tf.keras.backend.clear_session()\n",
    "\n",
    "model = tf.keras.Sequential([\n",
    "    text_vec_layer_ragged,\n",
    "    tf.keras.layers.Embedding(input_dim=vocab_size, output_dim=embedding_dim),\n",
    "    tf.keras.layers.LSTM(1024),\n",
    "    tf.keras.layers.Dense(units=num_classes, activation='softmax')\n",
    "])\n",
    "\n",
    "# Compile the model\n",
    "model.compile(optimizer='nadam', loss='sparse_categorical_crossentropy', metrics=['accuracy'])\n",
    "early_stopping = tf.keras.callbacks.EarlyStopping(monitor='val_loss', patience=5, restore_best_weights=True)\n",
    "\n",
    "\n",
    "history = model.fit(X_train, y_train,epochs=30,callbacks=[early_stopping])"
   ]
  }
 ],
 "metadata": {
  "kaggle": {
   "accelerator": "nvidiaTeslaT4",
   "dataSources": [
    {
     "datasetId": 4126638,
     "sourceId": 7147985,
     "sourceType": "datasetVersion"
    }
   ],
   "dockerImageVersionId": 30616,
   "isGpuEnabled": true,
   "isInternetEnabled": true,
   "language": "python",
   "sourceType": "notebook"
  },
  "kernelspec": {
   "display_name": "Python 3",
   "language": "python",
   "name": "python3"
  },
  "language_info": {
   "codemirror_mode": {
    "name": "ipython",
    "version": 3
   },
   "file_extension": ".py",
   "mimetype": "text/x-python",
   "name": "python",
   "nbconvert_exporter": "python",
   "pygments_lexer": "ipython3",
   "version": "3.10.12"
  },
  "papermill": {
   "default_parameters": {},
   "duration": 99.748158,
   "end_time": "2023-12-07T17:22:31.895696",
   "environment_variables": {},
   "exception": null,
   "input_path": "__notebook__.ipynb",
   "output_path": "__notebook__.ipynb",
   "parameters": {},
   "start_time": "2023-12-07T17:20:52.147538",
   "version": "2.4.0"
  }
 },
 "nbformat": 4,
 "nbformat_minor": 5
}
