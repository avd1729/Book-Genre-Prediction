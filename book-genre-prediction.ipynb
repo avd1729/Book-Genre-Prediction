{
 "cells": [
  {
   "cell_type": "markdown",
   "id": "6bc729eb",
   "metadata": {
    "papermill": {
     "duration": 0.008895,
     "end_time": "2023-12-07T17:18:43.657488",
     "exception": false,
     "start_time": "2023-12-07T17:18:43.648593",
     "status": "completed"
    },
    "tags": []
   },
   "source": [
    "# **Setting up the environment**"
   ]
  },
  {
   "cell_type": "code",
   "execution_count": 1,
   "id": "084a3dac",
   "metadata": {
    "execution": {
     "iopub.execute_input": "2023-12-07T17:18:43.675094Z",
     "iopub.status.busy": "2023-12-07T17:18:43.674564Z",
     "iopub.status.idle": "2023-12-07T17:18:43.683626Z",
     "shell.execute_reply": "2023-12-07T17:18:43.682960Z"
    },
    "papermill": {
     "duration": 0.01993,
     "end_time": "2023-12-07T17:18:43.685504",
     "exception": false,
     "start_time": "2023-12-07T17:18:43.665574",
     "status": "completed"
    },
    "tags": []
   },
   "outputs": [],
   "source": [
    "import warnings\n",
    "warnings.filterwarnings('ignore')"
   ]
  },
  {
   "cell_type": "code",
   "execution_count": 2,
   "id": "8c86031b",
   "metadata": {
    "execution": {
     "iopub.execute_input": "2023-12-07T17:18:43.702644Z",
     "iopub.status.busy": "2023-12-07T17:18:43.702385Z",
     "iopub.status.idle": "2023-12-07T17:18:56.635022Z",
     "shell.execute_reply": "2023-12-07T17:18:56.634224Z"
    },
    "papermill": {
     "duration": 12.943884,
     "end_time": "2023-12-07T17:18:56.637413",
     "exception": false,
     "start_time": "2023-12-07T17:18:43.693529",
     "status": "completed"
    },
    "tags": []
   },
   "outputs": [],
   "source": [
    "import numpy as np\n",
    "import pandas as pd\n",
    "import tensorflow as tf"
   ]
  },
  {
   "cell_type": "code",
   "execution_count": 3,
   "id": "e015f2df",
   "metadata": {
    "execution": {
     "iopub.execute_input": "2023-12-07T17:18:56.656027Z",
     "iopub.status.busy": "2023-12-07T17:18:56.655036Z",
     "iopub.status.idle": "2023-12-07T17:18:56.659581Z",
     "shell.execute_reply": "2023-12-07T17:18:56.658822Z"
    },
    "papermill": {
     "duration": 0.015545,
     "end_time": "2023-12-07T17:18:56.661367",
     "exception": false,
     "start_time": "2023-12-07T17:18:56.645822",
     "status": "completed"
    },
    "tags": []
   },
   "outputs": [],
   "source": [
    "np.random.seed(42)\n",
    "tf.random.set_seed(42)"
   ]
  },
  {
   "cell_type": "markdown",
   "id": "3e1f3e21",
   "metadata": {
    "papermill": {
     "duration": 0.007904,
     "end_time": "2023-12-07T17:18:56.677413",
     "exception": false,
     "start_time": "2023-12-07T17:18:56.669509",
     "status": "completed"
    },
    "tags": []
   },
   "source": [
    "# **Pre processing**"
   ]
  },
  {
   "cell_type": "code",
   "execution_count": 4,
   "id": "13b97328",
   "metadata": {
    "execution": {
     "iopub.execute_input": "2023-12-07T17:18:56.694924Z",
     "iopub.status.busy": "2023-12-07T17:18:56.694296Z",
     "iopub.status.idle": "2023-12-07T17:18:56.757100Z",
     "shell.execute_reply": "2023-12-07T17:18:56.756454Z"
    },
    "papermill": {
     "duration": 0.073591,
     "end_time": "2023-12-07T17:18:56.759009",
     "exception": false,
     "start_time": "2023-12-07T17:18:56.685418",
     "status": "completed"
    },
    "tags": []
   },
   "outputs": [],
   "source": [
    "data = pd.read_csv(\"/kaggle/input/book-scraped/myscrapeddata.csv\")"
   ]
  },
  {
   "cell_type": "code",
   "execution_count": 5,
   "id": "dc3da04b",
   "metadata": {
    "execution": {
     "iopub.execute_input": "2023-12-07T17:18:56.776891Z",
     "iopub.status.busy": "2023-12-07T17:18:56.776112Z",
     "iopub.status.idle": "2023-12-07T17:18:56.803656Z",
     "shell.execute_reply": "2023-12-07T17:18:56.802651Z"
    },
    "papermill": {
     "duration": 0.038206,
     "end_time": "2023-12-07T17:18:56.805526",
     "exception": false,
     "start_time": "2023-12-07T17:18:56.767320",
     "status": "completed"
    },
    "tags": []
   },
   "outputs": [
    {
     "name": "stdout",
     "output_type": "stream",
     "text": [
      "<class 'pandas.core.frame.DataFrame'>\n",
      "RangeIndex: 1000 entries, 0 to 999\n",
      "Data columns (total 13 columns):\n",
      " #   Column          Non-Null Count  Dtype  \n",
      "---  ------          --------------  -----  \n",
      " 0   availability    1000 non-null   int64  \n",
      " 1   category        1000 non-null   object \n",
      " 2   description     998 non-null    object \n",
      " 3   num_reviews     1000 non-null   int64  \n",
      " 4   price           1000 non-null   float64\n",
      " 5   price_excl_tax  1000 non-null   float64\n",
      " 6   price_incl_tax  1000 non-null   float64\n",
      " 7   product_type    1000 non-null   object \n",
      " 8   stars           1000 non-null   int64  \n",
      " 9   tax             1000 non-null   float64\n",
      " 10  title           1000 non-null   object \n",
      " 11  upc             1000 non-null   object \n",
      " 12  url             1000 non-null   object \n",
      "dtypes: float64(4), int64(3), object(6)\n",
      "memory usage: 101.7+ KB\n"
     ]
    }
   ],
   "source": [
    "data.info()"
   ]
  },
  {
   "cell_type": "code",
   "execution_count": 6,
   "id": "f196bd3a",
   "metadata": {
    "execution": {
     "iopub.execute_input": "2023-12-07T17:18:56.823731Z",
     "iopub.status.busy": "2023-12-07T17:18:56.823465Z",
     "iopub.status.idle": "2023-12-07T17:18:56.831346Z",
     "shell.execute_reply": "2023-12-07T17:18:56.830569Z"
    },
    "papermill": {
     "duration": 0.019547,
     "end_time": "2023-12-07T17:18:56.833331",
     "exception": false,
     "start_time": "2023-12-07T17:18:56.813784",
     "status": "completed"
    },
    "tags": []
   },
   "outputs": [
    {
     "data": {
      "text/plain": [
       "category\n",
       "default               152\n",
       "nonfiction            110\n",
       "sequential art         75\n",
       "add a comment          67\n",
       "fiction                65\n",
       "young adult            54\n",
       "fantasy                48\n",
       "romance                35\n",
       "mystery                32\n",
       "food and drink         30\n",
       "childrens              29\n",
       "historical fiction     26\n",
       "classics               19\n",
       "poetry                 19\n",
       "history                18\n",
       "horror                 17\n",
       "womens fiction         17\n",
       "science fiction        16\n",
       "science                14\n",
       "music                  13\n",
       "business               12\n",
       "philosophy             11\n",
       "thriller               11\n",
       "travel                 11\n",
       "humor                  10\n",
       "autobiography           9\n",
       "art                     8\n",
       "psychology              7\n",
       "religion                7\n",
       "christian fiction       6\n",
       "spirituality            6\n",
       "new adult               6\n",
       "self help               5\n",
       "sports and games        5\n",
       "biography               5\n",
       "health                  4\n",
       "christian               3\n",
       "contemporary            3\n",
       "politics                3\n",
       "historical              2\n",
       "cultural                1\n",
       "erotica                 1\n",
       "crime                   1\n",
       "novels                  1\n",
       "short stories           1\n",
       "suspense                1\n",
       "academic                1\n",
       "adult fiction           1\n",
       "parenting               1\n",
       "paranormal              1\n",
       "Name: count, dtype: int64"
      ]
     },
     "execution_count": 6,
     "metadata": {},
     "output_type": "execute_result"
    }
   ],
   "source": [
    "data['category'].value_counts()"
   ]
  },
  {
   "cell_type": "code",
   "execution_count": 7,
   "id": "ef0fd20c",
   "metadata": {
    "execution": {
     "iopub.execute_input": "2023-12-07T17:18:56.850940Z",
     "iopub.status.busy": "2023-12-07T17:18:56.850672Z",
     "iopub.status.idle": "2023-12-07T17:18:56.861723Z",
     "shell.execute_reply": "2023-12-07T17:18:56.860912Z"
    },
    "papermill": {
     "duration": 0.022046,
     "end_time": "2023-12-07T17:18:56.863640",
     "exception": false,
     "start_time": "2023-12-07T17:18:56.841594",
     "status": "completed"
    },
    "tags": []
   },
   "outputs": [],
   "source": [
    "genre_counts = {\n",
    "    'young adult': 54,\n",
    "    'fantasy': 48,\n",
    "    'romance': 35,\n",
    "    'mystery': 32,\n",
    "    'food and drink': 30,\n",
    "    'childrens': 29,\n",
    "    'historical fiction': 26,\n",
    "    'classics': 19,\n",
    "    'poetry': 19,\n",
    "    'history': 18,\n",
    "    'horror': 17,\n",
    "    'womens fiction': 17,\n",
    "    'science fiction': 16,\n",
    "    'science': 14,\n",
    "    'music': 13,\n",
    "    'business': 12,\n",
    "    'philosophy': 11,\n",
    "    'thriller': 11,\n",
    "    'travel': 11,\n",
    "    'humor': 10,\n",
    "    'autobiography': 9,\n",
    "    'art': 8,\n",
    "    'psychology': 7,\n",
    "    'religion': 7,\n",
    "    'christian fiction': 6,\n",
    "    'spirituality': 6,\n",
    "    'new adult': 6,\n",
    "    'self help': 5,\n",
    "    'sports and games': 5,\n",
    "    'biography': 5,\n",
    "    'health': 4,\n",
    "    'christian': 3,\n",
    "    'contemporary': 3,\n",
    "    'politics': 3,\n",
    "    'historical': 2,\n",
    "    'cultural': 1,\n",
    "    'erotica': 1,\n",
    "    'crime': 1,\n",
    "    'novels': 1,\n",
    "    'short stories': 1,\n",
    "    'suspense': 1,\n",
    "    'academic': 1,\n",
    "    'adult fiction': 1,\n",
    "    'parenting': 1,\n",
    "    'paranormal': 1\n",
    "}\n",
    "categories_to_drop = list(genre_counts.keys())\n",
    "data = data[~data['category'].isin(categories_to_drop)]"
   ]
  },
  {
   "cell_type": "code",
   "execution_count": 8,
   "id": "e7b3cc4f",
   "metadata": {
    "execution": {
     "iopub.execute_input": "2023-12-07T17:18:56.881433Z",
     "iopub.status.busy": "2023-12-07T17:18:56.881135Z",
     "iopub.status.idle": "2023-12-07T17:18:56.899629Z",
     "shell.execute_reply": "2023-12-07T17:18:56.898830Z"
    },
    "papermill": {
     "duration": 0.02945,
     "end_time": "2023-12-07T17:18:56.901452",
     "exception": false,
     "start_time": "2023-12-07T17:18:56.872002",
     "status": "completed"
    },
    "tags": []
   },
   "outputs": [
    {
     "data": {
      "text/html": [
       "<div>\n",
       "<style scoped>\n",
       "    .dataframe tbody tr th:only-of-type {\n",
       "        vertical-align: middle;\n",
       "    }\n",
       "\n",
       "    .dataframe tbody tr th {\n",
       "        vertical-align: top;\n",
       "    }\n",
       "\n",
       "    .dataframe thead th {\n",
       "        text-align: right;\n",
       "    }\n",
       "</style>\n",
       "<table border=\"1\" class=\"dataframe\">\n",
       "  <thead>\n",
       "    <tr style=\"text-align: right;\">\n",
       "      <th></th>\n",
       "      <th>availability</th>\n",
       "      <th>category</th>\n",
       "      <th>description</th>\n",
       "      <th>num_reviews</th>\n",
       "      <th>price</th>\n",
       "      <th>price_excl_tax</th>\n",
       "      <th>price_incl_tax</th>\n",
       "      <th>product_type</th>\n",
       "      <th>stars</th>\n",
       "      <th>tax</th>\n",
       "      <th>title</th>\n",
       "      <th>upc</th>\n",
       "      <th>url</th>\n",
       "    </tr>\n",
       "  </thead>\n",
       "  <tbody>\n",
       "    <tr>\n",
       "      <th>4</th>\n",
       "      <td>19</td>\n",
       "      <td>sequential art</td>\n",
       "      <td>Scott Pilgrim's life is totally sweet. He's 23...</td>\n",
       "      <td>0</td>\n",
       "      <td>52.29</td>\n",
       "      <td>52.29</td>\n",
       "      <td>52.29</td>\n",
       "      <td>books</td>\n",
       "      <td>5</td>\n",
       "      <td>0.0</td>\n",
       "      <td>Scott Pilgrim's Precious Little Life (Scott Pi...</td>\n",
       "      <td>3b1c02bac2a429e6</td>\n",
       "      <td>https://books.toscrape.com/catalogue/scott-pil...</td>\n",
       "    </tr>\n",
       "    <tr>\n",
       "      <th>6</th>\n",
       "      <td>19</td>\n",
       "      <td>default</td>\n",
       "      <td>For readers of Laura Hillenbrand's Seabiscuit ...</td>\n",
       "      <td>0</td>\n",
       "      <td>22.60</td>\n",
       "      <td>22.60</td>\n",
       "      <td>22.60</td>\n",
       "      <td>books</td>\n",
       "      <td>4</td>\n",
       "      <td>0.0</td>\n",
       "      <td>The Boys in the Boat: Nine Americans and Their...</td>\n",
       "      <td>e10e1e165dc8be4a</td>\n",
       "      <td>https://books.toscrape.com/catalogue/the-boys-...</td>\n",
       "    </tr>\n",
       "    <tr>\n",
       "      <th>7</th>\n",
       "      <td>19</td>\n",
       "      <td>default</td>\n",
       "      <td>\"If you have a heart, if you have a soul, Kare...</td>\n",
       "      <td>0</td>\n",
       "      <td>17.93</td>\n",
       "      <td>17.93</td>\n",
       "      <td>17.93</td>\n",
       "      <td>books</td>\n",
       "      <td>3</td>\n",
       "      <td>0.0</td>\n",
       "      <td>The Coming Woman: A Novel Based on the Life of...</td>\n",
       "      <td>e72a5dfc7e9267b2</td>\n",
       "      <td>https://books.toscrape.com/catalogue/the-comin...</td>\n",
       "    </tr>\n",
       "    <tr>\n",
       "      <th>14</th>\n",
       "      <td>18</td>\n",
       "      <td>default</td>\n",
       "      <td>This new edition of Maude (1883-1993) has been...</td>\n",
       "      <td>0</td>\n",
       "      <td>18.02</td>\n",
       "      <td>18.02</td>\n",
       "      <td>18.02</td>\n",
       "      <td>books</td>\n",
       "      <td>2</td>\n",
       "      <td>0.0</td>\n",
       "      <td>Maude (1883-1993):She Grew Up with the country</td>\n",
       "      <td>094b269567e1c300</td>\n",
       "      <td>https://books.toscrape.com/catalogue/maude-188...</td>\n",
       "    </tr>\n",
       "    <tr>\n",
       "      <th>15</th>\n",
       "      <td>18</td>\n",
       "      <td>default</td>\n",
       "      <td>Sent to yet another foster family, Penny decid...</td>\n",
       "      <td>0</td>\n",
       "      <td>33.29</td>\n",
       "      <td>33.29</td>\n",
       "      <td>33.29</td>\n",
       "      <td>books</td>\n",
       "      <td>3</td>\n",
       "      <td>0.0</td>\n",
       "      <td>Penny Maybe</td>\n",
       "      <td>668fe56b17cfcd4f</td>\n",
       "      <td>https://books.toscrape.com/catalogue/penny-may...</td>\n",
       "    </tr>\n",
       "  </tbody>\n",
       "</table>\n",
       "</div>"
      ],
      "text/plain": [
       "    availability        category  \\\n",
       "4             19  sequential art   \n",
       "6             19         default   \n",
       "7             19         default   \n",
       "14            18         default   \n",
       "15            18         default   \n",
       "\n",
       "                                          description  num_reviews  price  \\\n",
       "4   Scott Pilgrim's life is totally sweet. He's 23...            0  52.29   \n",
       "6   For readers of Laura Hillenbrand's Seabiscuit ...            0  22.60   \n",
       "7   \"If you have a heart, if you have a soul, Kare...            0  17.93   \n",
       "14  This new edition of Maude (1883-1993) has been...            0  18.02   \n",
       "15  Sent to yet another foster family, Penny decid...            0  33.29   \n",
       "\n",
       "    price_excl_tax  price_incl_tax product_type  stars  tax  \\\n",
       "4            52.29           52.29        books      5  0.0   \n",
       "6            22.60           22.60        books      4  0.0   \n",
       "7            17.93           17.93        books      3  0.0   \n",
       "14           18.02           18.02        books      2  0.0   \n",
       "15           33.29           33.29        books      3  0.0   \n",
       "\n",
       "                                                title               upc  \\\n",
       "4   Scott Pilgrim's Precious Little Life (Scott Pi...  3b1c02bac2a429e6   \n",
       "6   The Boys in the Boat: Nine Americans and Their...  e10e1e165dc8be4a   \n",
       "7   The Coming Woman: A Novel Based on the Life of...  e72a5dfc7e9267b2   \n",
       "14     Maude (1883-1993):She Grew Up with the country  094b269567e1c300   \n",
       "15                                        Penny Maybe  668fe56b17cfcd4f   \n",
       "\n",
       "                                                  url  \n",
       "4   https://books.toscrape.com/catalogue/scott-pil...  \n",
       "6   https://books.toscrape.com/catalogue/the-boys-...  \n",
       "7   https://books.toscrape.com/catalogue/the-comin...  \n",
       "14  https://books.toscrape.com/catalogue/maude-188...  \n",
       "15  https://books.toscrape.com/catalogue/penny-may...  "
      ]
     },
     "execution_count": 8,
     "metadata": {},
     "output_type": "execute_result"
    }
   ],
   "source": [
    "data.head()"
   ]
  },
  {
   "cell_type": "code",
   "execution_count": 9,
   "id": "295d57eb",
   "metadata": {
    "execution": {
     "iopub.execute_input": "2023-12-07T17:18:56.919582Z",
     "iopub.status.busy": "2023-12-07T17:18:56.919326Z",
     "iopub.status.idle": "2023-12-07T17:18:56.924791Z",
     "shell.execute_reply": "2023-12-07T17:18:56.923991Z"
    },
    "papermill": {
     "duration": 0.016583,
     "end_time": "2023-12-07T17:18:56.926591",
     "exception": false,
     "start_time": "2023-12-07T17:18:56.910008",
     "status": "completed"
    },
    "tags": []
   },
   "outputs": [],
   "source": [
    "data = data[['category','description']]"
   ]
  },
  {
   "cell_type": "code",
   "execution_count": 10,
   "id": "c2808c15",
   "metadata": {
    "execution": {
     "iopub.execute_input": "2023-12-07T17:18:56.945107Z",
     "iopub.status.busy": "2023-12-07T17:18:56.944858Z",
     "iopub.status.idle": "2023-12-07T17:18:56.952599Z",
     "shell.execute_reply": "2023-12-07T17:18:56.951809Z"
    },
    "papermill": {
     "duration": 0.019004,
     "end_time": "2023-12-07T17:18:56.954514",
     "exception": false,
     "start_time": "2023-12-07T17:18:56.935510",
     "status": "completed"
    },
    "tags": []
   },
   "outputs": [
    {
     "data": {
      "text/html": [
       "<div>\n",
       "<style scoped>\n",
       "    .dataframe tbody tr th:only-of-type {\n",
       "        vertical-align: middle;\n",
       "    }\n",
       "\n",
       "    .dataframe tbody tr th {\n",
       "        vertical-align: top;\n",
       "    }\n",
       "\n",
       "    .dataframe thead th {\n",
       "        text-align: right;\n",
       "    }\n",
       "</style>\n",
       "<table border=\"1\" class=\"dataframe\">\n",
       "  <thead>\n",
       "    <tr style=\"text-align: right;\">\n",
       "      <th></th>\n",
       "      <th>category</th>\n",
       "      <th>description</th>\n",
       "    </tr>\n",
       "  </thead>\n",
       "  <tbody>\n",
       "    <tr>\n",
       "      <th>4</th>\n",
       "      <td>sequential art</td>\n",
       "      <td>Scott Pilgrim's life is totally sweet. He's 23...</td>\n",
       "    </tr>\n",
       "    <tr>\n",
       "      <th>6</th>\n",
       "      <td>default</td>\n",
       "      <td>For readers of Laura Hillenbrand's Seabiscuit ...</td>\n",
       "    </tr>\n",
       "    <tr>\n",
       "      <th>7</th>\n",
       "      <td>default</td>\n",
       "      <td>\"If you have a heart, if you have a soul, Kare...</td>\n",
       "    </tr>\n",
       "    <tr>\n",
       "      <th>14</th>\n",
       "      <td>default</td>\n",
       "      <td>This new edition of Maude (1883-1993) has been...</td>\n",
       "    </tr>\n",
       "    <tr>\n",
       "      <th>15</th>\n",
       "      <td>default</td>\n",
       "      <td>Sent to yet another foster family, Penny decid...</td>\n",
       "    </tr>\n",
       "  </tbody>\n",
       "</table>\n",
       "</div>"
      ],
      "text/plain": [
       "          category                                        description\n",
       "4   sequential art  Scott Pilgrim's life is totally sweet. He's 23...\n",
       "6          default  For readers of Laura Hillenbrand's Seabiscuit ...\n",
       "7          default  \"If you have a heart, if you have a soul, Kare...\n",
       "14         default  This new edition of Maude (1883-1993) has been...\n",
       "15         default  Sent to yet another foster family, Penny decid..."
      ]
     },
     "execution_count": 10,
     "metadata": {},
     "output_type": "execute_result"
    }
   ],
   "source": [
    "data.head()"
   ]
  },
  {
   "cell_type": "code",
   "execution_count": 11,
   "id": "70b24dd5",
   "metadata": {
    "execution": {
     "iopub.execute_input": "2023-12-07T17:18:56.973447Z",
     "iopub.status.busy": "2023-12-07T17:18:56.973156Z",
     "iopub.status.idle": "2023-12-07T17:18:56.981444Z",
     "shell.execute_reply": "2023-12-07T17:18:56.980603Z"
    },
    "papermill": {
     "duration": 0.020325,
     "end_time": "2023-12-07T17:18:56.983766",
     "exception": false,
     "start_time": "2023-12-07T17:18:56.963441",
     "status": "completed"
    },
    "tags": []
   },
   "outputs": [
    {
     "name": "stdout",
     "output_type": "stream",
     "text": [
      "<class 'pandas.core.frame.DataFrame'>\n",
      "Index: 469 entries, 4 to 997\n",
      "Data columns (total 2 columns):\n",
      " #   Column       Non-Null Count  Dtype \n",
      "---  ------       --------------  ----- \n",
      " 0   category     469 non-null    object\n",
      " 1   description  468 non-null    object\n",
      "dtypes: object(2)\n",
      "memory usage: 11.0+ KB\n"
     ]
    }
   ],
   "source": [
    "data.info()"
   ]
  },
  {
   "cell_type": "code",
   "execution_count": 12,
   "id": "bdcc0423",
   "metadata": {
    "execution": {
     "iopub.execute_input": "2023-12-07T17:18:57.003370Z",
     "iopub.status.busy": "2023-12-07T17:18:57.003110Z",
     "iopub.status.idle": "2023-12-07T17:18:57.007814Z",
     "shell.execute_reply": "2023-12-07T17:18:57.007022Z"
    },
    "papermill": {
     "duration": 0.016225,
     "end_time": "2023-12-07T17:18:57.009617",
     "exception": false,
     "start_time": "2023-12-07T17:18:56.993392",
     "status": "completed"
    },
    "tags": []
   },
   "outputs": [],
   "source": [
    "data = data.dropna()"
   ]
  },
  {
   "cell_type": "code",
   "execution_count": 13,
   "id": "10e9872f",
   "metadata": {
    "execution": {
     "iopub.execute_input": "2023-12-07T17:18:57.028442Z",
     "iopub.status.busy": "2023-12-07T17:18:57.028153Z",
     "iopub.status.idle": "2023-12-07T17:18:57.036794Z",
     "shell.execute_reply": "2023-12-07T17:18:57.035783Z"
    },
    "papermill": {
     "duration": 0.020136,
     "end_time": "2023-12-07T17:18:57.038694",
     "exception": false,
     "start_time": "2023-12-07T17:18:57.018558",
     "status": "completed"
    },
    "tags": []
   },
   "outputs": [
    {
     "name": "stdout",
     "output_type": "stream",
     "text": [
      "<class 'pandas.core.frame.DataFrame'>\n",
      "Index: 468 entries, 4 to 997\n",
      "Data columns (total 2 columns):\n",
      " #   Column       Non-Null Count  Dtype \n",
      "---  ------       --------------  ----- \n",
      " 0   category     468 non-null    object\n",
      " 1   description  468 non-null    object\n",
      "dtypes: object(2)\n",
      "memory usage: 11.0+ KB\n"
     ]
    }
   ],
   "source": [
    "data.info()"
   ]
  },
  {
   "cell_type": "code",
   "execution_count": 14,
   "id": "bd96efea",
   "metadata": {
    "execution": {
     "iopub.execute_input": "2023-12-07T17:18:57.058026Z",
     "iopub.status.busy": "2023-12-07T17:18:57.057772Z",
     "iopub.status.idle": "2023-12-07T17:18:57.718045Z",
     "shell.execute_reply": "2023-12-07T17:18:57.717230Z"
    },
    "papermill": {
     "duration": 0.672332,
     "end_time": "2023-12-07T17:18:57.720366",
     "exception": false,
     "start_time": "2023-12-07T17:18:57.048034",
     "status": "completed"
    },
    "tags": []
   },
   "outputs": [],
   "source": [
    "from sklearn.preprocessing import OrdinalEncoder\n",
    "encoder = OrdinalEncoder()\n",
    "data[['category']] = encoder.fit_transform(data[['category']])"
   ]
  },
  {
   "cell_type": "code",
   "execution_count": 15,
   "id": "a9c826cc",
   "metadata": {
    "execution": {
     "iopub.execute_input": "2023-12-07T17:18:57.739840Z",
     "iopub.status.busy": "2023-12-07T17:18:57.739558Z",
     "iopub.status.idle": "2023-12-07T17:18:57.743619Z",
     "shell.execute_reply": "2023-12-07T17:18:57.742724Z"
    },
    "papermill": {
     "duration": 0.015942,
     "end_time": "2023-12-07T17:18:57.745614",
     "exception": false,
     "start_time": "2023-12-07T17:18:57.729672",
     "status": "completed"
    },
    "tags": []
   },
   "outputs": [],
   "source": [
    "X = data['description']\n",
    "y = data['category']"
   ]
  },
  {
   "cell_type": "code",
   "execution_count": 16,
   "id": "0fd9fc31",
   "metadata": {
    "execution": {
     "iopub.execute_input": "2023-12-07T17:18:57.764414Z",
     "iopub.status.busy": "2023-12-07T17:18:57.764133Z",
     "iopub.status.idle": "2023-12-07T17:18:57.773633Z",
     "shell.execute_reply": "2023-12-07T17:18:57.772837Z"
    },
    "papermill": {
     "duration": 0.020997,
     "end_time": "2023-12-07T17:18:57.775503",
     "exception": false,
     "start_time": "2023-12-07T17:18:57.754506",
     "status": "completed"
    },
    "tags": []
   },
   "outputs": [
    {
     "data": {
      "text/plain": [
       "category\n",
       "1.0    151\n",
       "3.0    110\n",
       "4.0     75\n",
       "0.0     67\n",
       "2.0     65\n",
       "Name: count, dtype: int64"
      ]
     },
     "execution_count": 16,
     "metadata": {},
     "output_type": "execute_result"
    }
   ],
   "source": [
    "y.value_counts()"
   ]
  },
  {
   "cell_type": "code",
   "execution_count": 17,
   "id": "3dddeff7",
   "metadata": {
    "execution": {
     "iopub.execute_input": "2023-12-07T17:18:57.794825Z",
     "iopub.status.busy": "2023-12-07T17:18:57.794580Z",
     "iopub.status.idle": "2023-12-07T17:18:57.889975Z",
     "shell.execute_reply": "2023-12-07T17:18:57.889106Z"
    },
    "papermill": {
     "duration": 0.10778,
     "end_time": "2023-12-07T17:18:57.892329",
     "exception": false,
     "start_time": "2023-12-07T17:18:57.784549",
     "status": "completed"
    },
    "tags": []
   },
   "outputs": [],
   "source": [
    "from sklearn.model_selection import train_test_split\n",
    "\n",
    "X_train , X_valid , y_train , y_valid = train_test_split(X , y , test_size=0.9 , random_state=42)"
   ]
  },
  {
   "cell_type": "code",
   "execution_count": 18,
   "id": "1ad16da5",
   "metadata": {
    "execution": {
     "iopub.execute_input": "2023-12-07T17:18:57.911996Z",
     "iopub.status.busy": "2023-12-07T17:18:57.911739Z",
     "iopub.status.idle": "2023-12-07T17:18:57.915574Z",
     "shell.execute_reply": "2023-12-07T17:18:57.914765Z"
    },
    "papermill": {
     "duration": 0.015554,
     "end_time": "2023-12-07T17:18:57.917393",
     "exception": false,
     "start_time": "2023-12-07T17:18:57.901839",
     "status": "completed"
    },
    "tags": []
   },
   "outputs": [],
   "source": [
    "y_train = np.array(y_train)\n",
    "y_valid = np.array(y_valid)"
   ]
  },
  {
   "cell_type": "code",
   "execution_count": 19,
   "id": "166be0b6",
   "metadata": {
    "execution": {
     "iopub.execute_input": "2023-12-07T17:18:57.936505Z",
     "iopub.status.busy": "2023-12-07T17:18:57.936247Z",
     "iopub.status.idle": "2023-12-07T17:18:57.941424Z",
     "shell.execute_reply": "2023-12-07T17:18:57.940626Z"
    },
    "papermill": {
     "duration": 0.016883,
     "end_time": "2023-12-07T17:18:57.943337",
     "exception": false,
     "start_time": "2023-12-07T17:18:57.926454",
     "status": "completed"
    },
    "tags": []
   },
   "outputs": [
    {
     "data": {
      "text/plain": [
       "'X_train = np.array(X_train)\\ny_train = np.array(y_train)\\nX_valid = np.array(X_valid)\\ny_valid = np.array(y_valid)'"
      ]
     },
     "execution_count": 19,
     "metadata": {},
     "output_type": "execute_result"
    }
   ],
   "source": [
    "'''X_train = np.array(X_train)\n",
    "y_train = np.array(y_train)\n",
    "X_valid = np.array(X_valid)\n",
    "y_valid = np.array(y_valid)'''"
   ]
  },
  {
   "cell_type": "code",
   "execution_count": 20,
   "id": "0d2573e3",
   "metadata": {
    "execution": {
     "iopub.execute_input": "2023-12-07T17:18:57.962681Z",
     "iopub.status.busy": "2023-12-07T17:18:57.962432Z",
     "iopub.status.idle": "2023-12-07T17:18:57.967526Z",
     "shell.execute_reply": "2023-12-07T17:18:57.966636Z"
    },
    "papermill": {
     "duration": 0.01686,
     "end_time": "2023-12-07T17:18:57.969399",
     "exception": false,
     "start_time": "2023-12-07T17:18:57.952539",
     "status": "completed"
    },
    "tags": []
   },
   "outputs": [
    {
     "data": {
      "text/plain": [
       "'X_train = [item for sublist in X_train for item in sublist]\\nX_valid = [item for sublist in X_valid for item in sublist]'"
      ]
     },
     "execution_count": 20,
     "metadata": {},
     "output_type": "execute_result"
    }
   ],
   "source": [
    "'''X_train = [item for sublist in X_train for item in sublist]\n",
    "X_valid = [item for sublist in X_valid for item in sublist]'''"
   ]
  },
  {
   "cell_type": "code",
   "execution_count": 21,
   "id": "68115e2f",
   "metadata": {
    "execution": {
     "iopub.execute_input": "2023-12-07T17:18:57.988909Z",
     "iopub.status.busy": "2023-12-07T17:18:57.988653Z",
     "iopub.status.idle": "2023-12-07T17:19:02.037954Z",
     "shell.execute_reply": "2023-12-07T17:19:02.036982Z"
    },
    "papermill": {
     "duration": 4.061472,
     "end_time": "2023-12-07T17:19:02.040142",
     "exception": false,
     "start_time": "2023-12-07T17:18:57.978670",
     "status": "completed"
    },
    "tags": []
   },
   "outputs": [],
   "source": [
    "train_set = tf.data.Dataset.from_tensor_slices((X_train, y_train))\n",
    "valid_set = tf.data.Dataset.from_tensor_slices((X_valid, y_valid))"
   ]
  },
  {
   "cell_type": "code",
   "execution_count": 22,
   "id": "f91d23fd",
   "metadata": {
    "execution": {
     "iopub.execute_input": "2023-12-07T17:19:02.061247Z",
     "iopub.status.busy": "2023-12-07T17:19:02.060955Z",
     "iopub.status.idle": "2023-12-07T17:19:02.703787Z",
     "shell.execute_reply": "2023-12-07T17:19:02.702863Z"
    },
    "papermill": {
     "duration": 0.656055,
     "end_time": "2023-12-07T17:19:02.706144",
     "exception": false,
     "start_time": "2023-12-07T17:19:02.050089",
     "status": "completed"
    },
    "tags": []
   },
   "outputs": [],
   "source": [
    "tf.random.set_seed(42)\n",
    "vocab_size = 2000\n",
    "text_vec_layer = tf.keras.layers.TextVectorization(max_tokens=vocab_size)\n",
    "text_vec_layer.adapt(train_set.map(lambda reviews, labels: reviews))"
   ]
  },
  {
   "cell_type": "code",
   "execution_count": 23,
   "id": "ae299bc1",
   "metadata": {
    "execution": {
     "iopub.execute_input": "2023-12-07T17:19:02.727057Z",
     "iopub.status.busy": "2023-12-07T17:19:02.726737Z",
     "iopub.status.idle": "2023-12-07T17:19:02.738459Z",
     "shell.execute_reply": "2023-12-07T17:19:02.737658Z"
    },
    "papermill": {
     "duration": 0.025038,
     "end_time": "2023-12-07T17:19:02.741080",
     "exception": false,
     "start_time": "2023-12-07T17:19:02.716042",
     "status": "completed"
    },
    "tags": []
   },
   "outputs": [
    {
     "name": "stdout",
     "output_type": "stream",
     "text": [
      "Vocabulary: ['', '[UNK]', 'the', 'of', 'and', 'a', 'to', 'in', 'is', 'her', 'that', 'on', 'with', 'more', 'has', 'for', 'his', 'from', 'but', 'as', 'it', 'new', 'she', 'an', 'was', 'our', 'life', 'this', 'their', 'are', 'what', 'by', 'be', 'who', 'we', 'how', 'when', 'not', 'they', 'no', 'at', 'he', 'time', 'have', 'can', 'about', 'world', 'one', 'into', 'york', 'sleep', 'only', 'book', 'will', 'music', 'up', 'or', 'most', 'its', 'find', 'than', 'story', 'out', 'other', 'him', 'had', 'us', 'there', 'them', 'own', 'all', 'years', 'people', 'novel', 'history', 'family', 'even', 'were', 'power', 'mary', 'been', 'american', 'across', 'times', 'like', 'human', 'first', 'after', 'tells', 'series', 'revolution', 'powerful', 'now', 'never', 'love', 'father', 'young', 'work', 'through', 'so', 'memoir', 'lives', 'home', 'hero', 'every', 'does', 'city', 'both', 'become', 'art', 'yet', 'while', 'which', 'two', 'old', 'comic', 'year', 'war', 'stories', 'some', 'science', 'personal', 'over', 'once', 'narrative', 'graphic', 'darrow', 'because', 'awardwinning', 'author', 'america', 'against', 'would', 'together', 'tippett', 'team', 'still', 'sense', 'off', 'national', 'much', 'many', 'magazine', 'long', 'left', 'king', 'journey', 'if', 'idea', 'heart', 'frankenstein', 'found', 'fall', 'do', 'did', 'between', 'beauty', 'back', 'austin', 'also', 'alone', 'allie', '–', 'writer', 'woman', 'wisdom', 'whose', 'wave', 'until', 'these', 't', 'sweeping', 'school', 'room', 'relationship', 'mysterious', 'make', 'journalist', 'goes', 'force', 'filled', 'far', 'each', 'dream', 'day', 'dark', 'being', 'began', 'before', 'alive', '1', '\\xa0', 'watch', 'too', 'those', 'things', 'texas', 'tale', 'soul', 'son', 'society', 'six', 'sister', 'rest', 'remarkable', 'questions', 'profound', 'part', 'often', 'modern', 'midnight', 'little', 'late', 'just', 'islamic', 'iraq', 'hotel', 'health', 'gun', 'gray', 'girl', 'explores', 'enough', 'during', 'dramatic', 'determined', 'deeply', 'dangerous', 'course', 'comics', 'collection', 'cell', 'books', 'became', 'battle', 'artist', 'any', 'you', 'winner', 'winchester', 'where', 'well', 'ways', 'waves', 'wants', 'very', 'turtle', 'truth', 'true', 'town', 'titanic', 'third', 'technology', 'takes', 'take', 'system', 'such', 'struggle', 'states', 'spiritual', 'small', 'short', 'rockets', 'return', 'pulitzer', 'public', 'prentiss', 'political', 'places', 'past', 'north', 'need', 'miles', 'men', 'members', 'lord', 'loneliness', 'lived', 'leaders', 'issues', 'industry', 'images', 'high', 'haag', 'guns', 'green', 'greatest', 'great', 'go', 'get', 'friends', 'five', 'fight', 'fantasy', 'everything', 'everyone', 'ever', 'destructive', 'culture', 'crisis', 'control', 'college', 'character', 'change', 'century', 'call', 'brothers', 'big', 'bestselling', 'behind', 'away', 'around', 'age', 'adventure', 'account', 'your', 'writes', 'workers', 'wizard', 'without', 'winter', 'wilbur', 'why', 'walking', 'volume', 'visible', 'vibrant', 'unable', 'ultimately', 'twentiethcentury', 'told', 'though', 'terrifying', 'stuck', 'stone', 'stay', 'ss', 'sounds', 'sometimes', 'smarter', 'skye', 'skottie', 'shows', 'serious', 'secret', 'second', 'saw', 'sasuke', 'sarah', 'saga', 'rukia', 'romance', 'riveting', 'rhino', 'provocative', 'problems', 'problem', 'portrait', 'place', 'physics', 'person', 'peace', 'oz', 'orville', 'older', 'officer', 'ocean', 'nothing', 'noise', 'newspaper', 'natural', 'naruto', 'name', 'my', 'must', 'mr', 'mother', 'monster', 'mission', 'meet', 'meaning', 'mean', 'mccullough', 'man', 'male', 'lonely', 'listen', 'learned', 'land', 'know', 'katniss', 'jordanian', 'i', 'humor', 'huffington', 'homage', 'highly', 'herself', 'help', 'having', 'haunting', 'happened', 'growing', 'group', 'grew', 'gold', 'gives', 'getting', 'genius', 'freedom', 'follow', 'fire', 'few', 'face', 'extensive', 'exceptional', 'end', 'draw', 'discover', 'daughter', 'data', 'daring', 'danger', 'created', 'conversation', 'company', 'comes', 'collects', 'classical', 'chance', 'catherine', 'captured', 'captain', 'camp', 'californian', 'business', 'brown', 'bond', 'blue', 'blomkvist', 'best', 'beginning', 'award', 'artists', 'arms', 'another', 'americans', 'always', 'y', 'xl', 'writing', 'write', 'wonder', 'witness', 'winston', 'wild', 'wife', 'westish', 'weather', 'way', 'warrick', 'waking', 'voices', 'vocational', 'visions', 'violent', 'vicious', 'vaughan', 'upon', 'united', 'uniquely', 'unforgettable', 'understand', 'twotime', 'twentieth', 'trust', 'truly', 'trials', 'transform', 'threatens', 'teaching', 'syria', 'swells', 'survived', 'survive', 'success', 'student', 'striking', 'strapped', 'stranded', 'start', 'something', 'solomon', 'slowly', 'slater', 'since', 'simple', 'sides', 'sex', 'serial', 'sent', 'seems', 'seemingly', 'seemed', 'seeking', 'see', 'secrets', 'sandman', 'sami', 'same', 'running', 'run', 'role', 'rocket', 'risk', 'reveals', 'returns', 'result', 'responsibility', 'resilience', 'released', 'relationships', 'redemption', 'rebels', 'reaper', 'really', 'range', 'raising', 'raccoon', 'queens', 'promising', 'prize', 'private', 'possibility', 'popular', 'pipeline', 'persepolis', 'peculiar', 'passengers', 'parole', 'parker', 'paintings', 'pages', 'otherwise', 'others', 'original', 'origin', 'onto', 'oliver', 'nor', 'night', 'newman', 'needed', 'nearly', 'nature', 'mystery', 'moving', 'monsters', 'mind', 'million', 'milk', 'meant', 'means', 'may', 'matter', 'masters', 'masked', 'marjane', 'marcus', 'magical', 'madness', 'made', 'look', 'liz', 'live', 'leaving', 'league', 'leads', 'last', 'larger', 'krista', 'known', 'killer', 'keystone', 'katnisss', 'katherine', 'k', 'jordan', 'joby', 'job', 'jane', 'iran', 'investigation', 'interest', 'intensely', 'intelligence', 'instant', 'including', 'impact', 'imagination', 'iconic', 'ichigo', 'humanity', 'hospital', 'hopes', 'historian', 'himself', 'hiding', 'hes', 'hers', 'henry', 'hella', 'goldenage', 'glass', 'girlfriend', 'giant', 'generation', 'game', 'future', 'fur', 'funny', 'four', 'foundation', 'fortunately', 'forged', 'followed', 'fired', 'finally', 'fiction', 'fascinating', 'failure', 'expose', 'experiences', 'experience', 'examples', 'exactly', 'events', 'essence', 'essays', 'equally', 'epic', 'entire', 'enemies', 'embrace', 'doctor', 'district', 'different', 'didn’t', 'devastating', 'design', 'deprivation', 'decisions', 'death', 'david', 'dangers', 'dad', 'cultural', 'crimes', 'creator', 'courage', 'country', 'consequences', 'community', 'common', 'committed', 'come', 'climate', 'citizens', 'childrens', 'children', 'childhood', 'challenges', 'cause', 'castle', 'cartoonist', 'captures', 'capitol', 'cahalan', 'brought', 'bring', 'brian', 'breathtaking', 'boldly', 'better', 'bestseller', 'bennet', 'belong', 'becomes', 'baseball', 'avoid', 'authors', 'aspect', 'aside', 'arianna', 'answer', 'angels', 'among', 'america\\xa0is', 'allie’s', 'aid', 'aftermath', 'affenlight', 'advice', 'acclaimed', '13', '“little', '“i’m', '“in', '“big', '“best', '—the', 'zombie', 'zarqawi', 'youth', 'yorker', 'yorick', 'yoga', 'year”a', 'yearbook', 'ychromosome', 'wrong', 'writings', 'wrighton', 'wright', 'wounds', 'world’s', 'worlds', 'worked', 'words', 'wont', 'wonderlandstyle', 'won', 'women', 'woman’s', 'woke', 'within', 'wise', 'wide', 'whom', 'wholly', 'whatever', 'we’re', 'western', 'werelion', 'wellknown', 'weight', 'wed', 'watchers', 'watched', 'warriors', 'warnings', 'warming', 'wanting', 'w', 'vulnerability', 'vs', 'voyage', 'voltage', 'voiceovers', 'vivid', 'vital', 'visit', 'victor', 'version', 'verge', 'vast', 'variety', 'vanish', 'value', 'using', 'used', 'upendedhenry’s', 'upended', 'unwitting', 'unsettling', 'unrelated', 'unknown', 'universe', 'unique', 'unforeseeable', 'unfoldingit', 'unexpectedly', 'unemployed', 'understanding', 'underlie', 'undergoing', 'uncontrollable', 'ultimate', 'uganda', 'tóibín’s', 'tyler', 'twentyfouryearold', 'turns', 'turned', 'triumphs', 'triumphant', 'trip', 'trick', 'tribute', 'trap', 'transplant', 'transitionfar', 'transition', 'transfers', 'trainingafter', 'trafficking', 'toward', 'toldin', 'todays', 'today', 'tippetts', 'time—a', 'timealice', 'throw', 'throughout', 'thrilling', 'thriller', 'thrill', 'threats', 'threat', 'thousands', 'thirties', 'thinkers', 'thing', 'they’re', 'then', 'themselves', 'theirs', 'that’s', 'testy', 'testament', 'terrorized', 'tehran', 'teenagers', 'teenager', 'technologies', 'taught', 'taras', 'tank', 'talking', 'taken', 'swinging', 'swedish', 'sweden', 'swan', 'suspicious', 'susannah', 'surprises', 'surf', 'sure', 'superstar', 'summer', 'succeeded', 'subversive', 'subject', 'study', 'strip', 'strange', 'strain', 'storybehindthestory', 'stopped', 'stock', 'stint', 'steven', 'stephen', 'step', 'status', 'stats', 'state', 'started', 'starred', 'stardom', 'star', 'stanley', 'stalked', 'spring', 'spread', 'spirits', 'special', 'speak', 'soviet', 'souldevouring', 'sons', 'someone', 'solved', 'solomon’s', 'solitary', 'soldiers', 'sociologist', 'societys', 'sober', 'smoothing', 'smashes', 'sleeping', 'skrimshander', 'skilled', 'sixth', 'sitting', 'single', 'sincerity', 'shouting', 'should', 'shore', 'shocking', 'ship', 'shinobi', 'shiner', 'shine', 'shifts—political', 'she’d', 'shes', 'shelley', 'shattered', 'sharp', 'shame', 'shakespeares', 'shakespeare', 'shadow', 'sexy', 'sets', 'serves', 'seriesalexis', 'sentence', 'sell', 'selfdoubt', 'seismic', 'seasons', 'season', 'seagle', 'scientists', 'scene', 'scare', 'satrapi’s', 'satrapi', 'sargent', 'sank', 'sanctified', 'san', 'safe', 's', 'runofthemill', 'ruin', 'routine', 'romero', 'rivalries', 'risking', 'rises', 'rise', 'ripper', 'rigorous', 'ride', 'rhinos', 'review', 'revelatory', 'retelling', 'resisting', 'resisted', 'rescued', 'representation', 'repose', 'reports', 'reporter', 'reportage', 'repeating', 'renewing', 'renaissance', 'remote', 'remains', 'reluctant', 'relation', 'refuse', 'refuge', 'reenergize', 'recovered', 'reconnect', 'recognize', 'recapture', 'rebuild', 'realworld', 'reality', 'realistic', 'readers', 'raven', 'raul', 'rat', 'ranks', 'random', 'quoted', 'question', 'push', 'purest', 'publisher', 'psychic', 'provides', 'provide', 'profoundly', 'produce', 'probable', 'prizewinning', 'prisoners', 'prison', 'pride', 'president', 'presents', 'presence', 'prejudicethis', 'post', 'pollock', 'politics', 'policy', 'please', 'planet', 'plains', 'plague', 'placed', 'picasso', 'pi', 'physically', 'photography', 'phones', 'peter', 'performance', 'penchant', 'peeta', 'peaks', 'peabody', 'passionate', 'paranormal', 'pamela', 'page', 'paced', 'owning', 'overturns', 'overthrow', 'overlords', 'overlook', 'outpost', 'outer', 'ourselves—both', 'orphanage', 'originating', 'opposite', 'opportunity', 'operation', 'on—is', 'olds', 'ohio', 'offshoring', 'offers', 'occur', 'obsolete', 'obsessed', 'obscure', 'obedience', 'novels', 'note', 'notable', 'none', 'ninjait’s', 'nights', 'neverending', 'neurological', 'neglected', 'needing', 'nearby', 'nations', 'nationor', 'muscle', 'murders', 'murderous', 'ms', 'moves', 'movement', 'move', 'morpheuss', 'morpheus', 'moral', 'monkey', 'moment', 'mom', 'mischief', 'minor', 'millennium', 'military', 'militant', 'mikael', 'mightiest', 'might', 'midsummers', 'midst', 'midnightwith', 'middle', 'michigan', 'metropolis', 'met', 'mere', 'mention', 'memory', 'meets', 'meditation', 'medical', 'medalist', 'mayhem', 'match', 'master', 'mass', 'marvel', 'marshall', 'marry', 'man’s', 'making', 'makers', 'major', 'magic', 'lust', 'loving', 'loved', 'lost', 'los', 'looked', 'longtime', 'longneglected', 'london', 'living', 'listens', 'listening', 'lines', 'limits', 'lifeless', 'letter', 'lessons', 'length', 'latter', 'lake', 'laing', 'lady', 'lacks', 'labyrinth', 'labor', 'kyo', 'kurosaki', 'knack', 'kingsbury', 'kings', 'kin', 'kills', 'killeramericas', 'kept', 'keep', 'katzenstein', 'katrina', 'karen', 'kakashi', 'joe', 'jessica', 'jeannettes', 'jason', 'james', 'jackson', 'jack', 'i’ve', 'isolated', 'islam', 'isis', 'irresistible', 'irrefutable', 'in\\xa0becoming', 'intoxication', 'intoxicating', 'intimately', 'intimate', 'interviewed', 'intervention', 'interpret', 'instructor', 'insights', 'insightful', 'innocence', 'injustice', 'injured', 'industrial', 'individuals', 'indelible', 'incorrigible', 'inadvertently', 'improbable', 'important', 'implicating', 'imperfection', 'illuminating', 'idly', 'identitywhen', 'identitythe', 'idea—to', 'iceberg', 'hurricane', 'hundred', 'humanities', 'housing', 'house', 'hottempered', 'horrors', 'horror', 'horrific', 'honor', 'hollows', 'holds', 'histories', 'historical', 'hike', 'he’s', 'here', 'herbert', 'henry’s', 'help—and', 'helps', 'heavily', 'heartbreaking', 'heartbreak', 'headlines', 'haven’t', 'happiness', 'hanged', 'halloran', 'half', 'gunning', 'guert', 'grownup', 'greatly', 'governmentbut', 'gotten', 'gothic', 'got', 'goriest', 'going', 'given', 'girldeadpoolesque', 'gigabytes', 'gifts', 'gift', 'gert', 'germany', 'george', 'geology', 'genre', 'generations', 'generated', 'gale', 'galactic', 'gaining', 'frozen', 'frighteningly', 'friendship', 'friendsdespite', 'friend', 'fresh', 'free', 'francisco', 'fragile', 'fourteen', 'fought', 'forty', 'foreverconvicted', 'forecasts', 'foot', 'fly', 'flight', 'fitting', 'firstwho', 'films', 'fighting', 'felt', 'fellow', 'feet', 'feels', 'feelings', 'fearlessly', 'fates', 'farfetched', 'fantasyadventure', 'fans', 'famous', 'family—and', 'falls', 'fallen', 'faithful', 'faith', 'fairyland', 'faced', 'eyes', 'extremes', 'extraordinary', 'explosive', 'explosion', 'explore', 'expertly', 'exist', 'exception', 'evil', 'evident', 'evidence', 'everdeenwhy', 'everdeen', 'eventually', 'evening', 'eve', 'evan', 'europe', 'ethereal', 'especially', 'escaped', 'escape', 'erotic', 'ephesus', 'ensures', 'enslaved', 'enough”', 'engineering', 'engaged', 'ending', 'empty', 'emperors', 'emerging', 'eliot', 'elephant', 'elaborate', 'eighteen', 'eight', 'education', 'editor', 'echo', 'eastern', 'easily', 'earth', 'earlier', 'dysfunctional', 'dreaming', 'drawn', 'drawing', 'drank', 'downtown', 'downsizing', 'down', 'door', 'dollars', 'doing', 'divine', 'distress', 'dishonest', 'discovering', 'disciplines', 'disastrously', 'disasters', 'disaster', 'disappointment', 'dimensions', 'died', 'develop', 'destroys', 'destroyed', 'destined', 'derek', 'denominations”', 'demanded', 'delightfully', 'delectable', 'delayed', 'deidara’s', 'deidara', 'deep', 'dedicated', 'decided', 'december', 'deceased', 'decades', 'decade', 'debut', 'deadset', 'deadkatniss', 'deadi', 'days', 'data”—the', 'data”', 'darcy—is', 'danny', 'daily', 'cutthroat', 'cute', 'cut', 'cusp', 'culminates', 'crusading', 'crusader', 'cruel', 'crucifixion', 'critics’', 'critic', 'crime', 'create', 'crazy', 'crashes', 'crash', 'crafted', 'courageous', 'countless', 'could…ms', 'could', 'cost', 'cosmopolitan', 'correspondence', 'core', 'conventional', 'contradictions', 'continued', 'consumes', 'considered', 'connect', 'condition', 'concludes', 'concerned', 'concepts', 'concept', 'composers', 'completely', 'companion', 'commit', 'comix', 'colm', 'collecting', 'collar', 'collaborating', 'cofounder', 'closer', 'closed', 'climbed', 'clear', 'classic', 'class', 'civilians', 'circle', 'cincinnati', 'cia', 'chronicling', 'chronicles', 'chronicle', 'christianityin', 'chip', 'chief', 'charismatic', 'charge', 'characters—for', 'changed', 'cautionary', 'cauterizes', 'cats', 'catch', 'casting', 'carriers', 'carolina', 'caretaker', 'career', 'car', 'capture', 'capable', 'cannot', 'called', 'bursting', 'buried', 'buff', 'bubble', 'brutally', 'broadcaster', 'brilliant', 'brené', 'breed', 'breach', 'brave', 'brand', 'brain', 'boys', 'boy', 'boston', 'booka', 'bonds', 'bombings', 'bodyguards', 'body', 'bloodspattered', 'blood', 'blizzards', 'bleach', 'blackandwhite', 'black', 'biography', 'beyond', 'bewildering', 'bestsellerwise', 'bestsellers', 'bestowing', 'beneficent', 'ben', 'believe', 'belief', 'beings', 'begun', 'bed', 'beach', 'battled', 'batch', 'based', 'barricades', 'barely', 'bare', 'banner', 'banks', 'bachelor', 'award—and', 'average', 'author—it’s', 'audiences', 'atlantic', 'asserts', 'assembles', 'asian', 'array', 'armed', 'april', 'approximately', 'apart', 'animation', 'animals', 'angeles', 'andrew', 'ancient', 'ampersand', 'amendment', 'am', 'altered', 'alqaeda', 'along', 'almost', 'allpowerful', 'allnew', 'alienated', 'alerted', 'aglow', 'aggressive', 'ages', 'advertising', 'adam', 'accidentally', 'access', 'able', 'ability', 'abdullah', '6', '30', '24', '217', '2008', '2006', '1999', '1912', '1903', '1885in', '1884', '1800s', '15yearold', '1500', '14', '10', '“worth', '“sold', '“group', '“a', '—kirkus', '—booklist', '–\\xa0from\\xa0weight', '\\xa0and', 'zarqawis', 'you’ll', 'yes', 'ye', 'yann', 'yanks', 'yang', 'xl’s', 'wucker', 'wrote', 'written', 'writers', 'wrightfar', 'wrapping', 'worshipful', 'worse', 'worldwide', 'works', 'workouts', 'working', 'won’t', 'wolitzers', 'wit\\xa0trespassing', 'wittrespassing', 'withinfinally', 'wish', 'wise\\xa0is', 'wisebeyondheryears', 'wiping', 'wings', 'window', 'winchester—a', 'win', 'willingness', 'wields', 'whole', 'whippings', 'whether', 'wherever', 'whenever', 'what”—along', 'werewolves', 'werecats', 'wellbeing', 'weaves', 'weave', 'weapon', 'way—and', 'watches', 'wasted', 'wars', 'warmhearted', 'warhols', 'warfare', 'want', 'wannabes', 'walls', 'waited', 'vision', 'vinnies', 'view', 'vienna', 'victims', 'vertigo', 'verdict', 'vengeance', 'velvet', 'vehicles', 'us–we', 'us–a', 'use', 'urban', 'upheaval', 'upbringing', 'unthinkable', 'unsuspecting', 'unstable', 'unschooled', 'unreachable', 'unravel', 'unquestionably', 'unmatched', 'unmake', 'unlikely', 'unleashes', 'unleash', 'university', 'universal', 'unique—and', 'unionall', 'union', 'ungoverned', 'unexceptional', 'unemployment', 'unease', 'undermines', 'underground', 'under', 'uncovers', 'ultraconservative', 'typewritersfocusing', 'twentyfive', 'twenties', 'tv', 'tuned', 'tuesdaynight', 'tuesday', 'tudor', 'trying', 'troubled', 'triumph', 'trio', 'trespassing', 'trek', 'travels', 'travel', 'transformed', 'transcendent', 'trampled', 'trajectory', 'training', 'trained', 'tragic', 'tragedy', 'tragedies', 'tradition', 'tracking', 'traces', 'tower', 'touted', 'tour', 'tormented', 'topics', 'took', 'toibin’s', 'tohru', 'tips', 'times“an', 'timesbestselling', 'tiger', 'thumb', 'thrillers', 'threshold', 'threatfrom', 'threads', 'thousand', 'thirty', 'thirdclass', 'the\\xa0mystery', 'they’ve', 'theologians', 'themselves”', 'tested', 'terrorize', 'terrorist', 'terrorism', 'terrible', 'terrain', 'tenderness', 'tenacious', 'ten', 'telling', 'tell', 'telgemeiers', 'technological', 'techniques', 'technically', 'technical', 'tears', 'tear', 'teammate', 'teachers', 'tattoo', 'tar', 'taps', 'tap', 'tampering', 'tamil', 'taliban', 'tale…as', 'taking', 'syrian', 'synesthetic', 'sword', 'swift', 'sweet', 'sustained', 'suspenseful', 'survives', 'survival', 'surrender', 'surprising', 'supplies', 'supplied', 'superheronow', 'superhero', 'suits', 'suicide', 'successful', 'substitute', 'su', 'struggled', 'stronger', 'strong', 'strike', 'strength', 'strategically', 'storm', 'stolen', 'stewards', 'stereotype', 'stephanie', 'steel', 'steadman', 'statistician', 'statesanctioned', 'start\\xa0', 'stalker', 'stalins', 'squad', 'sprawling', 'spr', 'spirituality', 'spirit', 'spiral', 'spent', 'spend', 'specialized', 'spaces', 'space', 'sources', 'soundtracks', 'sought', 'soon', 'sonny', 'somewhere', 'somehow', 'sold', 'soho', 'sohma', 'sociologists', 'social', 'soaked', 'smile', 'sleepdeprived', 'slee', 'slayings', 'skip', 'skills', 'sixties', 'sisters', 'sing', 'simplifications', 'silent', 'signature', 'side', 'shuttle', 'showing', 'show', 'shirtmaker', 'shipwreck', 'ships', 'shimmering', 'shelter', 'sheds', 'shatters', 'shaped', 'shameful', 'shah’s', 'shadows', 'shackled', 'sexuality', 'seventy', 'seventies', 'seven', 'settle', 'setmillions', 'september', 'sensuous', 'sends', 'semblance', 'selfevident', 'seized', 'seeped', 'seen', 'seem', 'seek', 'sectors', 'secret—one', 'secretly', 'secondary', 'seashore', 'searing', 'searching', 'sea', 'scruple', 'scripture', 'screenswhen', 'scrapbooks', 'scientifically', 'schwartz', 'scandal', 'says', 'save', 'sasuke’s', 'sands', 'sample', 'sales', 'salander’s', 'salander—the', 'salander', 'sake', 'safety', 'saddam', 'sacrifice', 'sacks', 'ruthlessly', 'russia', 'runs', 'runni', 'route', 'roommate', 'rods', 'rock', 'road', 'risktaking', 'risks', 'risked', 'rising', 'ripples', 'rip', 'riots', 'right', 'rifle', 'riddell', 'riches', 'richerthis', 'richard', 'rich', 'revolution\\xa0both', 'revolution\\xa0', 'revolutions', 'revivify', 'revived', 'revisit', 'revises', 'reviews', 'reviewing', 'revenge', 'revealing\\xa0the', 'revealed', 'reveal', 'revamp', 'returning', 'retirement', 'retiree', 'retail', 'results', 'resulting', 'restorative', 'responsibilities', 'resolution', 'research', 'rescue', 'require', 'republicans', 'repression', 'reporters', 'renewed', 'renders', 'renamed', 'reminder', 'relevant', 'relentless', 'reinventing', 'regularly', 'regime', 'refusing', 'reflective', 'reflection', 'reevaluation', 'reductive', 'rediscover', 'redefine', 'redeemedhumane', 'recommendations', 'recoils', 'recesses', 'recently', 'receiving', 'rebirth', 'rebellion', 'realizes', 'realized', 'readingwhen', 'reading', 'readcollects', 'reached', 'raw', 'raul’s', 'rather', 'rapidly', 'ranging', 'ranger', 'ramirez', 'rallied', 'raises', 'rainy', 'raina', 'rain', 'rage', 'radio', 'radicals', 'radical', 'race', 'quo', 'question—“now', 'quell', 'quarter', 'qualms', 'quaint']\n"
     ]
    }
   ],
   "source": [
    "print(\"Vocabulary:\", text_vec_layer.get_vocabulary())"
   ]
  },
  {
   "cell_type": "markdown",
   "id": "435c91e1",
   "metadata": {
    "papermill": {
     "duration": 0.009477,
     "end_time": "2023-12-07T17:19:02.760226",
     "exception": false,
     "start_time": "2023-12-07T17:19:02.750749",
     "status": "completed"
    },
    "tags": []
   },
   "source": [
    "# **RNNs**"
   ]
  },
  {
   "cell_type": "code",
   "execution_count": 24,
   "id": "0a2ac0ac",
   "metadata": {
    "execution": {
     "iopub.execute_input": "2023-12-07T17:19:02.780461Z",
     "iopub.status.busy": "2023-12-07T17:19:02.780180Z",
     "iopub.status.idle": "2023-12-07T17:19:02.783844Z",
     "shell.execute_reply": "2023-12-07T17:19:02.783043Z"
    },
    "papermill": {
     "duration": 0.015851,
     "end_time": "2023-12-07T17:19:02.785688",
     "exception": false,
     "start_time": "2023-12-07T17:19:02.769837",
     "status": "completed"
    },
    "tags": []
   },
   "outputs": [],
   "source": [
    "embedding_dim = 32  \n",
    "num_classes = 5"
   ]
  },
  {
   "cell_type": "code",
   "execution_count": 25,
   "id": "76954d88",
   "metadata": {
    "execution": {
     "iopub.execute_input": "2023-12-07T17:19:02.844808Z",
     "iopub.status.busy": "2023-12-07T17:19:02.844518Z",
     "iopub.status.idle": "2023-12-07T17:19:13.671931Z",
     "shell.execute_reply": "2023-12-07T17:19:13.671137Z"
    },
    "papermill": {
     "duration": 10.840165,
     "end_time": "2023-12-07T17:19:13.674070",
     "exception": false,
     "start_time": "2023-12-07T17:19:02.833905",
     "status": "completed"
    },
    "tags": []
   },
   "outputs": [
    {
     "name": "stdout",
     "output_type": "stream",
     "text": [
      "Epoch 1/10\n",
      "2/2 [==============================] - 7s 216ms/step - loss: 1.6104 - accuracy: 0.1304\n",
      "Epoch 2/10\n",
      "2/2 [==============================] - 0s 213ms/step - loss: 1.5994 - accuracy: 0.2391\n",
      "Epoch 3/10\n",
      "2/2 [==============================] - 0s 214ms/step - loss: 1.5931 - accuracy: 0.2391\n",
      "Epoch 4/10\n",
      "2/2 [==============================] - 0s 215ms/step - loss: 1.5829 - accuracy: 0.2826\n",
      "Epoch 5/10\n",
      "2/2 [==============================] - 0s 222ms/step - loss: 1.5747 - accuracy: 0.2826\n",
      "Epoch 6/10\n",
      "2/2 [==============================] - 0s 213ms/step - loss: 1.5666 - accuracy: 0.2826\n",
      "Epoch 7/10\n",
      "2/2 [==============================] - 0s 228ms/step - loss: 1.5643 - accuracy: 0.2826\n",
      "Epoch 8/10\n",
      "2/2 [==============================] - 0s 216ms/step - loss: 1.5567 - accuracy: 0.2826\n",
      "Epoch 9/10\n",
      "2/2 [==============================] - 0s 212ms/step - loss: 1.5548 - accuracy: 0.2826\n",
      "Epoch 10/10\n",
      "2/2 [==============================] - 0s 221ms/step - loss: 1.5463 - accuracy: 0.2609\n"
     ]
    }
   ],
   "source": [
    "tf.random.set_seed(42)\n",
    "tf.keras.backend.clear_session()\n",
    "\n",
    "model = tf.keras.Sequential([\n",
    "    text_vec_layer,\n",
    "    tf.keras.layers.Embedding(input_dim=vocab_size, output_dim=embedding_dim),\n",
    "    tf.keras.layers.GRU(128),\n",
    "    tf.keras.layers.Dense(units=num_classes, activation='softmax')\n",
    "])\n",
    "\n",
    "# Compile the model\n",
    "model.compile(optimizer='adam', loss='sparse_categorical_crossentropy', metrics=['accuracy'])\n",
    "\n",
    "\n",
    "history = model.fit(X_train, y_train, epochs=10)"
   ]
  },
  {
   "cell_type": "code",
   "execution_count": 26,
   "id": "f47e5bdb",
   "metadata": {
    "execution": {
     "iopub.execute_input": "2023-12-07T17:19:13.702455Z",
     "iopub.status.busy": "2023-12-07T17:19:13.702127Z",
     "iopub.status.idle": "2023-12-07T17:19:22.385555Z",
     "shell.execute_reply": "2023-12-07T17:19:22.384630Z"
    },
    "papermill": {
     "duration": 8.699358,
     "end_time": "2023-12-07T17:19:22.387796",
     "exception": false,
     "start_time": "2023-12-07T17:19:13.688438",
     "status": "completed"
    },
    "tags": []
   },
   "outputs": [
    {
     "name": "stdout",
     "output_type": "stream",
     "text": [
      "Epoch 1/10\n",
      "2/2 [==============================] - 6s 162ms/step - loss: 1.6104 - accuracy: 0.1957\n",
      "Epoch 2/10\n",
      "2/2 [==============================] - 0s 160ms/step - loss: 1.5965 - accuracy: 0.2826\n",
      "Epoch 3/10\n",
      "2/2 [==============================] - 0s 156ms/step - loss: 1.5865 - accuracy: 0.2826\n",
      "Epoch 4/10\n",
      "2/2 [==============================] - 0s 158ms/step - loss: 1.5723 - accuracy: 0.2826\n",
      "Epoch 5/10\n",
      "2/2 [==============================] - 0s 163ms/step - loss: 1.5560 - accuracy: 0.2826\n",
      "Epoch 6/10\n",
      "2/2 [==============================] - 0s 164ms/step - loss: 1.5381 - accuracy: 0.2826\n",
      "Epoch 7/10\n",
      "2/2 [==============================] - 0s 159ms/step - loss: 1.5339 - accuracy: 0.2826\n",
      "Epoch 8/10\n",
      "2/2 [==============================] - 0s 163ms/step - loss: 1.5180 - accuracy: 0.2826\n",
      "Epoch 9/10\n",
      "2/2 [==============================] - 0s 188ms/step - loss: 1.5008 - accuracy: 0.2826\n",
      "Epoch 10/10\n",
      "2/2 [==============================] - 0s 178ms/step - loss: 1.4924 - accuracy: 0.3043\n"
     ]
    }
   ],
   "source": [
    "tf.random.set_seed(42)\n",
    "tf.keras.backend.clear_session()\n",
    "\n",
    "model = tf.keras.Sequential([\n",
    "    text_vec_layer,\n",
    "    tf.keras.layers.Embedding(input_dim=vocab_size, output_dim=embedding_dim,mask_zero=True),\n",
    "    tf.keras.layers.GRU(256),\n",
    "    tf.keras.layers.Dense(units=num_classes, activation='softmax')\n",
    "])\n",
    "\n",
    "# Compile the model\n",
    "model.compile(optimizer='adam', loss='sparse_categorical_crossentropy', metrics=['accuracy'])\n",
    "\n",
    "\n",
    "history = model.fit(X_train, y_train, epochs=10)"
   ]
  },
  {
   "cell_type": "code",
   "execution_count": 27,
   "id": "a36635ae",
   "metadata": {
    "execution": {
     "iopub.execute_input": "2023-12-07T17:19:22.423217Z",
     "iopub.status.busy": "2023-12-07T17:19:22.422896Z",
     "iopub.status.idle": "2023-12-07T17:19:22.647943Z",
     "shell.execute_reply": "2023-12-07T17:19:22.646970Z"
    },
    "papermill": {
     "duration": 0.245564,
     "end_time": "2023-12-07T17:19:22.650676",
     "exception": false,
     "start_time": "2023-12-07T17:19:22.405112",
     "status": "completed"
    },
    "tags": []
   },
   "outputs": [],
   "source": [
    "text_vec_layer_ragged = tf.keras.layers.TextVectorization(\n",
    "    max_tokens=vocab_size, ragged=True)\n",
    "text_vec_layer_ragged.adapt(train_set.map(lambda reviews, labels: reviews))"
   ]
  },
  {
   "cell_type": "code",
   "execution_count": 28,
   "id": "9afe0b01",
   "metadata": {
    "execution": {
     "iopub.execute_input": "2023-12-07T17:19:22.689500Z",
     "iopub.status.busy": "2023-12-07T17:19:22.688770Z",
     "iopub.status.idle": "2023-12-07T17:19:30.581910Z",
     "shell.execute_reply": "2023-12-07T17:19:30.581002Z"
    },
    "papermill": {
     "duration": 7.91222,
     "end_time": "2023-12-07T17:19:30.583922",
     "exception": false,
     "start_time": "2023-12-07T17:19:22.671702",
     "status": "completed"
    },
    "tags": []
   },
   "outputs": [
    {
     "name": "stdout",
     "output_type": "stream",
     "text": [
      "Epoch 1/10\n",
      "2/2 [==============================] - 3s 258ms/step - loss: 1.6100 - accuracy: 0.1739\n",
      "Epoch 2/10\n",
      "2/2 [==============================] - 1s 291ms/step - loss: 1.5916 - accuracy: 0.2826\n",
      "Epoch 3/10\n",
      "2/2 [==============================] - 1s 252ms/step - loss: 1.5776 - accuracy: 0.2826\n",
      "Epoch 4/10\n",
      "2/2 [==============================] - 1s 259ms/step - loss: 1.5558 - accuracy: 0.2826\n",
      "Epoch 5/10\n",
      "2/2 [==============================] - 0s 199ms/step - loss: 1.5323 - accuracy: 0.2826\n",
      "Epoch 6/10\n",
      "2/2 [==============================] - 1s 259ms/step - loss: 1.5252 - accuracy: 0.2826\n",
      "Epoch 7/10\n",
      "2/2 [==============================] - 1s 254ms/step - loss: 1.4930 - accuracy: 0.4783\n",
      "Epoch 8/10\n",
      "2/2 [==============================] - 1s 251ms/step - loss: 1.4780 - accuracy: 0.6087\n",
      "Epoch 9/10\n",
      "2/2 [==============================] - 1s 253ms/step - loss: 1.4239 - accuracy: 0.6304\n",
      "Epoch 10/10\n",
      "2/2 [==============================] - 1s 266ms/step - loss: 3.2377 - accuracy: 0.3261\n"
     ]
    }
   ],
   "source": [
    "tf.random.set_seed(42)\n",
    "tf.keras.backend.clear_session()\n",
    "\n",
    "model = tf.keras.Sequential([\n",
    "    text_vec_layer_ragged,\n",
    "    tf.keras.layers.Embedding(input_dim=vocab_size, output_dim=embedding_dim),\n",
    "    tf.keras.layers.GRU(512),\n",
    "    tf.keras.layers.Dense(units=num_classes, activation='softmax')\n",
    "])\n",
    "\n",
    "# Compile the model\n",
    "model.compile(optimizer='adam', loss='sparse_categorical_crossentropy', metrics=['accuracy'])\n",
    "\n",
    "\n",
    "history = model.fit(X_train, y_train, epochs=10)"
   ]
  },
  {
   "cell_type": "code",
   "execution_count": 29,
   "id": "c4e28392",
   "metadata": {
    "execution": {
     "iopub.execute_input": "2023-12-07T17:19:30.623091Z",
     "iopub.status.busy": "2023-12-07T17:19:30.622818Z",
     "iopub.status.idle": "2023-12-07T17:19:54.625969Z",
     "shell.execute_reply": "2023-12-07T17:19:54.625046Z"
    },
    "papermill": {
     "duration": 24.025142,
     "end_time": "2023-12-07T17:19:54.628214",
     "exception": false,
     "start_time": "2023-12-07T17:19:30.603072",
     "status": "completed"
    },
    "tags": []
   },
   "outputs": [
    {
     "name": "stdout",
     "output_type": "stream",
     "text": [
      "Epoch 1/30\n",
      "2/2 [==============================] - 5s 333ms/step - loss: 1.6104 - accuracy: 0.1522\n",
      "Epoch 2/30\n",
      "2/2 [==============================] - 1s 355ms/step - loss: 1.5995 - accuracy: 0.3261\n",
      "Epoch 3/30\n",
      "2/2 [==============================] - 1s 327ms/step - loss: 4.3731 - accuracy: 0.2826\n",
      "Epoch 4/30\n",
      "2/2 [==============================] - 1s 333ms/step - loss: 3.1528 - accuracy: 0.2391\n",
      "Epoch 5/30\n",
      "2/2 [==============================] - 1s 349ms/step - loss: 1.5949 - accuracy: 0.4783\n",
      "Epoch 6/30\n",
      "2/2 [==============================] - 1s 327ms/step - loss: 1.5897 - accuracy: 0.5870\n",
      "Epoch 7/30\n",
      "2/2 [==============================] - 1s 323ms/step - loss: 1.5830 - accuracy: 0.5435\n",
      "Epoch 8/30\n",
      "2/2 [==============================] - 1s 324ms/step - loss: 1.5748 - accuracy: 0.5652\n",
      "Epoch 9/30\n",
      "2/2 [==============================] - 1s 325ms/step - loss: 1.5639 - accuracy: 0.6087\n",
      "Epoch 10/30\n",
      "2/2 [==============================] - 1s 345ms/step - loss: 1.5508 - accuracy: 0.6304\n",
      "Epoch 11/30\n",
      "2/2 [==============================] - 1s 356ms/step - loss: 1.5332 - accuracy: 0.6739\n",
      "Epoch 12/30\n",
      "2/2 [==============================] - 1s 329ms/step - loss: 1.5084 - accuracy: 0.5652\n",
      "Epoch 13/30\n",
      "2/2 [==============================] - 1s 313ms/step - loss: 1.4580 - accuracy: 0.6087\n",
      "Epoch 14/30\n",
      "2/2 [==============================] - 0s 357ms/step - loss: 2.3953 - accuracy: 0.1957\n",
      "Epoch 15/30\n",
      "2/2 [==============================] - 1s 332ms/step - loss: 3.8034 - accuracy: 0.2174\n",
      "Epoch 16/30\n",
      "2/2 [==============================] - 1s 327ms/step - loss: 1.9093 - accuracy: 0.3913\n",
      "Epoch 17/30\n",
      "2/2 [==============================] - 1s 348ms/step - loss: 1.6956 - accuracy: 0.3043\n",
      "Epoch 18/30\n",
      "2/2 [==============================] - 1s 319ms/step - loss: 1.5960 - accuracy: 0.2826\n",
      "Epoch 19/30\n",
      "2/2 [==============================] - 1s 332ms/step - loss: 1.6693 - accuracy: 0.2391\n",
      "Epoch 20/30\n",
      "2/2 [==============================] - 1s 351ms/step - loss: 1.5898 - accuracy: 0.2826\n",
      "Epoch 21/30\n",
      "2/2 [==============================] - 1s 349ms/step - loss: 1.5613 - accuracy: 0.2826\n",
      "Epoch 22/30\n",
      "2/2 [==============================] - 1s 317ms/step - loss: 1.5585 - accuracy: 0.2609\n",
      "Epoch 23/30\n",
      "2/2 [==============================] - 0s 121ms/step - loss: 1.5554 - accuracy: 0.2826\n",
      "Epoch 24/30\n",
      "2/2 [==============================] - 1s 327ms/step - loss: 1.5414 - accuracy: 0.2826\n",
      "Epoch 25/30\n",
      "2/2 [==============================] - 1s 377ms/step - loss: 1.5481 - accuracy: 0.2826\n",
      "Epoch 26/30\n",
      "2/2 [==============================] - 0s 334ms/step - loss: 1.5410 - accuracy: 0.2826\n",
      "Epoch 27/30\n",
      "2/2 [==============================] - 0s 365ms/step - loss: 1.5381 - accuracy: 0.3261\n",
      "Epoch 28/30\n",
      "2/2 [==============================] - 0s 360ms/step - loss: 1.5359 - accuracy: 0.3043\n",
      "Epoch 29/30\n",
      "2/2 [==============================] - 0s 340ms/step - loss: 1.5404 - accuracy: 0.3043\n",
      "Epoch 30/30\n",
      "2/2 [==============================] - 1s 350ms/step - loss: 1.5359 - accuracy: 0.3261\n"
     ]
    }
   ],
   "source": [
    "tf.random.set_seed(42)\n",
    "tf.keras.backend.clear_session()\n",
    "\n",
    "model = tf.keras.Sequential([\n",
    "    text_vec_layer_ragged,\n",
    "    tf.keras.layers.Embedding(input_dim=vocab_size, output_dim=embedding_dim),\n",
    "    tf.keras.layers.LSTM(1024),\n",
    "    tf.keras.layers.Dense(units=num_classes, activation='softmax')\n",
    "])\n",
    "\n",
    "# Compile the model\n",
    "model.compile(optimizer='nadam', loss='sparse_categorical_crossentropy', metrics=['accuracy'])\n",
    "early_stopping = tf.keras.callbacks.EarlyStopping(monitor='val_loss', patience=5, restore_best_weights=True)\n",
    "\n",
    "\n",
    "history = model.fit(X_train, y_train,epochs=30,callbacks=[early_stopping])"
   ]
  }
 ],
 "metadata": {
  "kaggle": {
   "accelerator": "nvidiaTeslaT4",
   "dataSources": [
    {
     "datasetId": 4126638,
     "sourceId": 7147985,
     "sourceType": "datasetVersion"
    }
   ],
   "dockerImageVersionId": 30616,
   "isGpuEnabled": true,
   "isInternetEnabled": true,
   "language": "python",
   "sourceType": "notebook"
  },
  "kernelspec": {
   "display_name": "Python 3",
   "language": "python",
   "name": "python3"
  },
  "language_info": {
   "codemirror_mode": {
    "name": "ipython",
    "version": 3
   },
   "file_extension": ".py",
   "mimetype": "text/x-python",
   "name": "python",
   "nbconvert_exporter": "python",
   "pygments_lexer": "ipython3",
   "version": "3.10.12"
  },
  "papermill": {
   "default_parameters": {},
   "duration": 77.656218,
   "end_time": "2023-12-07T17:19:57.854475",
   "environment_variables": {},
   "exception": null,
   "input_path": "__notebook__.ipynb",
   "output_path": "__notebook__.ipynb",
   "parameters": {},
   "start_time": "2023-12-07T17:18:40.198257",
   "version": "2.4.0"
  }
 },
 "nbformat": 4,
 "nbformat_minor": 5
}
